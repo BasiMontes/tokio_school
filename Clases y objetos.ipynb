{
 "cells": [
  {
   "cell_type": "markdown",
   "metadata": {},
   "source": [
    "# Ejercicios Modulo 3. Clases y objetos"
   ]
  },
  {
   "cell_type": "markdown",
   "metadata": {},
   "source": [
    "# Ejercicio 1"
   ]
  },
  {
   "cell_type": "markdown",
   "metadata": {},
   "source": [
    "#### Creación\n",
    "\n",
    "* Crea una clase llamada __Alumno__ que tenga los atributos nombre y nota\n",
    "* Crea el __constructor__ de la clase. Añadir en el constructor un print para informar de que el alumno se ha creado con éxito\n",
    "* Sobreescribe el método **string (``__str__``)**, para que al imprimir por pantalla se vea su informacion\n",
    "* Crear un método llamado __calificacion__ que imprima por pantalla si el alumno ha aprobado o suspendido en base a su nota\n",
    "\n",
    "#### Experimentación\n",
    "\n",
    "* Crea algunos alumnos\n",
    "* Prueba a mostrar los objetos alumno y el método calificacion"
   ]
  },
  {
   "cell_type": "code",
   "execution_count": 1,
   "metadata": {},
   "outputs": [
    {
     "name": "stdout",
     "output_type": "stream",
     "text": [
      "Se ha creado el alumno Roberto Blanco Fernández con éxito\n"
     ]
    },
    {
     "data": {
      "text/plain": [
       "'Roberto Blanco Fernández tiene está aprobado, su nota es 8.5'"
      ]
     },
     "execution_count": 1,
     "metadata": {},
     "output_type": "execute_result"
    }
   ],
   "source": [
    "class Alumno:\n",
    "    \n",
    "    def __init__(self, nombre, apellido1, apellido2, nota):\n",
    "        self.nombre = nombre\n",
    "        self.apellido1 = apellido1\n",
    "        self.apellido2 = apellido2\n",
    "        self.nota = nota\n",
    "        print(\"Se ha creado el alumno\", self.nombre, self.apellido1, self.apellido2, \"con éxito\")\n",
    "         \n",
    "    def __str__(self):\n",
    "        return \"{} {} {} tiene una nota {}\".format(self.nombre, self.apellido1, self.apellido2, self.nota)\n",
    "    \n",
    "    def calificacion(self):\n",
    "        str(self)\n",
    "        if self.nota < 5:\n",
    "            return \"{} {} {} tiene está suspendido, su nota es {}\".format(self.nombre, self.apellido1, self.apellido2, self.nota)\n",
    "        elif self.nota >= 5:\n",
    "            return \"{} {} {} tiene está aprobado, su nota es {}\".format(self.nombre, self.apellido1, self.apellido2, self.nota)\n",
    "        \n",
    "        \n",
    "alumno1 = Alumno(\"Roberto\",\"Blanco\",\"Fernández\", 8.5)\n",
    "\n",
    "str(alumno1)\n",
    "\n",
    "alumno1.calificacion()"
   ]
  },
  {
   "cell_type": "markdown",
   "metadata": {},
   "source": [
    "# Ejercicio 2"
   ]
  },
  {
   "cell_type": "markdown",
   "metadata": {},
   "source": [
    "#### Creación\n",
    "\n",
    "Sobre el ejercicio anterior realizar la siguiente modificación.\n",
    "\n",
    "Si en el ejercicio hacemos un print(alumno1.nota) esto nos devolverá la nota del alumno. Esto puede llegar a ser un problema de seguridad, vamos a encapsular el código para que no podamos acceder directamente a las variables, y el acceso tenga que ser a través de métodos.\n",
    "\n",
    "* Hacer que las variables de la clase sean __privadas__. Recordatorio: Añadir doble guion delante del nombre de la variable\n",
    "* Crea métodos __getter y setter__ para poder acceder y modificar las variables de la clase\n",
    "\n",
    "#### Experimentación\n",
    "\n",
    "* Crea algunos alumnos\n",
    "* Comprueba que solo podamos acceder a las variables de la clase a través de sus métodos get y set"
   ]
  },
  {
   "cell_type": "code",
   "execution_count": 2,
   "metadata": {},
   "outputs": [
    {
     "name": "stdout",
     "output_type": "stream",
     "text": [
      "Se ha creado el alumno Carlos Martínez Sánchez con éxito\n",
      "Se ha creado el alumno Sara Palacios Otero con éxito\n",
      "Se ha creado el alumno Alberto Martínez Sevilla con éxito\n",
      "Se ha creado el alumno Carmen Vega Castejón con éxito\n",
      "Alberto\n"
     ]
    }
   ],
   "source": [
    "# Realizar el ejercicio aquí\n",
    "\n",
    "class Alumno:\n",
    "    \n",
    "    __nombre = \"Soy un dato protegido por Ley Orgánica de Protección de Datos de Carácter Personal\"\n",
    "    __apellido1 = \"Soy un dato protegido por Ley Orgánica de Protección de Datos de Carácter Personal\"\n",
    "    __apellido2 = \"Soy un dato protegido por Ley Orgánica de Protección de Datos de Carácter Personal\"\n",
    "    __nota = \"Soy un dato protegido por Ley Orgánica de Protección de Datos de Carácter Personal\"\n",
    "    \n",
    "    def __metodo_privado(self):\n",
    "        print(\"Soy un dato protegido por Ley Orgánica de Protección de Datos de Carácter Personal\")\n",
    "    \n",
    "    def __init__(self, nombre, apellido1, apellido2, nota):\n",
    "        self.nombre = nombre\n",
    "        self.apellido1 = apellido1\n",
    "        self.apellido2 = apellido2\n",
    "        self.nota = nota\n",
    "        print(\"Se ha creado el alumno\", self.nombre, self.apellido1, self.apellido2, \"con éxito\")\n",
    "         \n",
    "    def __str__(self):\n",
    "        return \"{} {} {} tiene una nota {}\".format(self.nombre, self.apellido1, self.apellido2, self.nota)\n",
    "    \n",
    "    def calificacion(self):\n",
    "        str(self)\n",
    "        if self.nota < 5:\n",
    "            return \"{} {} {} tiene está suspendido, su nota es {}\".format(self.nombre, self.apellido1, self.apellido2, self.nota)\n",
    "        elif self.nota >= 5:\n",
    "            return \"{} {} {} tiene está aprobado, su nota es {}\".format(self.nombre, self.apellido1, self.apellido2, self.nota)\n",
    "  \n",
    "    # Getters\n",
    "    @property\n",
    "    def nombre(self):\n",
    "        return self.__nombre\n",
    "\n",
    "    # Setters\n",
    "    @nombre.setter\n",
    "    def nombre(self, nuevoNombre):\n",
    "        self.__nombre = nuevoNombre\n",
    "        \n",
    "alumno1 = Alumno(\"Carlos\", \"Martínez\", \"Sánchez\", 7)\n",
    "alumno2 = Alumno(\"Sara\", \"Palacios\", \"Otero\", 9)\n",
    "alumno3 = Alumno(\"Alberto\", \"Martínez\", \"Sevilla\", 8.5)\n",
    "alumno4 = Alumno(\"Carmen\", \"Vega\", \"Castejón\", 10)\n",
    "print(alumno3.nombre)\n",
    "\n",
    "#alumno1.__nombre()"
   ]
  },
  {
   "cell_type": "markdown",
   "metadata": {},
   "source": [
    "# Ejercicio 3"
   ]
  },
  {
   "cell_type": "markdown",
   "metadata": {},
   "source": [
    "#### Creación\n",
    "\n",
    "* Crea una clase llamada __Producto__ que tenga los atributos codigo, nombre, precio y tipo.\n",
    "* Crea el __constructor__ de la clase. Añadir en el constructor un print para informar de que el producto se ha creado con éxito\n",
    "* Crea métodos __getter y setter__ para acceder y modificar todos los atributos de la clase\n",
    "\n",
    "#### Experimentación\n",
    "\n",
    "* Crea algunos productos\n",
    "* Prueba estos nuevos métodos que se han creado (getter y setter)"
   ]
  },
  {
   "cell_type": "code",
   "execution_count": 3,
   "metadata": {},
   "outputs": [
    {
     "name": "stdout",
     "output_type": "stream",
     "text": [
      "Se ha creado el producto TV que tiene un precio de 399 4K con éxito\n",
      "Se ha creado el producto TV que tiene un precio de 699 8K con éxito\n",
      "Se ha creado el producto TV que tiene un precio de 899 8K con éxito\n",
      "699\n"
     ]
    }
   ],
   "source": [
    "# Realizar el ejercicio aquí\n",
    "\n",
    "class Producto:\n",
    "    __codigo = \"Soy un dato protegido\"\n",
    "    \n",
    "    def __init__(self, codigo, nombre, precio, pulgadas, tipo):\n",
    "        self.__codigo = codigo\n",
    "        self.nombre = nombre\n",
    "        self.precio = precio\n",
    "        self.pulgadas = pulgadas\n",
    "        self.tipo = tipo\n",
    "        print(\"Se ha creado el producto\", self.nombre, \"que tiene un precio de\", self.precio, self.tipo, \"con éxito\")\n",
    "\n",
    "    def __str__(self):\n",
    "        return \"Se ha creado el producto {}, {} con un precio de {}\".format(self.codigo, self.nombre, self.precio)\n",
    "\n",
    "    \n",
    "    # Getters\n",
    "    @property\n",
    "    def codigo(self):\n",
    "        print(\"ESTOY EN EL GETTER\")\n",
    "        return self.__codigo\n",
    "\n",
    "     # Setters\n",
    "    @codigo.setter\n",
    "    def codigo(self, nuevoCodigo):\n",
    "        print(\"ESTOY EN EL SETTER\")\n",
    "        self.__codigo = nuevoValor\n",
    "    \n",
    "producto1 = Producto(\"8GAH4\", \"TV\", 399, 43, \"4K\")\n",
    "producto2 = Producto(\"3N4R1\", \"TV\", 699, 55, \"8K\")\n",
    "producto3 = Producto(\"JL78X\", \"TV\", 899, 65, \"8K\")\n",
    "\n",
    "print(producto2.precio)"
   ]
  },
  {
   "cell_type": "markdown",
   "metadata": {},
   "source": [
    "# Ejercicio 4"
   ]
  },
  {
   "cell_type": "markdown",
   "metadata": {},
   "source": [
    "#### Creación\n",
    "\n",
    "Ampliemos el ejercicio anterior:\n",
    "Copia todo el código que ya tengas y añade lo siguiente:\n",
    "\n",
    "* Sobreescribe el método **string (``__str__``)**, para que al imprimir por pantalla un producto y muestre todos los datos de dicho producto. Ejemplo:\n",
    "\n",
    "<img src=\"./Ejemplo_ej2.PNG\"  />\n",
    "\n",
    "* Crear un método llamado __calcular_total__ el cual reciba un número de unidades para ese producto, y en base a ello calcule el precio total de ese conjunto de productos. Ejemplo: 5 unidades del producto 1\n",
    "\n",
    "#### Experimentación\n",
    "\n",
    "* Prueba estos nuevos métodos que se han creado"
   ]
  },
  {
   "cell_type": "code",
   "execution_count": 4,
   "metadata": {},
   "outputs": [
    {
     "name": "stdout",
     "output_type": "stream",
     "text": [
      "Se ha creado el producto TV que tiene un precio de 399 4K con éxito\n",
      "Se ha creado el producto TV que tiene un precio de 699 8K con éxito\n",
      "Se ha creado el producto TV que tiene un precio de 899 8K con éxito\n",
      "699\n",
      "ESTOY EN EL GETTER\n",
      "ESTOY EN EL GETTER\n",
      "Código\tJL78X\n",
      "Nombre\tTV\n",
      "Precio\t899\n",
      "Pulgadas\t65\n",
      "Tipo\t8K\n"
     ]
    }
   ],
   "source": [
    "# Realizar el ejercicio aquí\n",
    "\n",
    "\n",
    "class Producto:\n",
    "    __codigo = \"Soy un dato protegido\"\n",
    "    \n",
    "    def __init__(self, codigo, nombre, precio, pulgadas, tipo):\n",
    "        self.__codigo = codigo\n",
    "        self.nombre = nombre\n",
    "        self.precio = precio\n",
    "        self.pulgadas = pulgadas\n",
    "        self.tipo = tipo\n",
    "        print(\"Se ha creado el producto\", self.nombre, \"que tiene un precio de\", self.precio, self.tipo, \"con éxito\")\n",
    "\n",
    "    def __str__(self):\n",
    "        return \"\"\"\\\n",
    "Código\\t{}\n",
    "Nombre\\t{}\n",
    "Precio\\t{}\n",
    "Pulgadas\\t{}\n",
    "Tipo\\t{}\"\"\".format(self.codigo, self.nombre, self.precio, self.pulgadas, self.tipo)\n",
    "    \n",
    "    # Getters\n",
    "    @property\n",
    "    def codigo(self):\n",
    "        print(\"ESTOY EN EL GETTER\")\n",
    "        return self.__codigo\n",
    "\n",
    "     # Setters\n",
    "    @codigo.setter\n",
    "    def codigo(self, nuevoCodigo):\n",
    "        print(\"ESTOY EN EL SETTER\")\n",
    "        self.__codigo = nuevoValor\n",
    "    \n",
    "producto1 = Producto(\"8GAH4\", \"TV\", 399, 43, \"4K\")\n",
    "producto2 = Producto(\"3N4R1\", \"TV\", 699, 55, \"8K\")\n",
    "producto3 = Producto(\"JL78X\", \"TV\", 899, 65, \"8K\")\n",
    "\n",
    "print(producto2.precio)\n",
    "str(producto1)\n",
    "\n",
    "print(producto3)"
   ]
  },
  {
   "cell_type": "markdown",
   "metadata": {},
   "source": [
    "# Ejercicio 5"
   ]
  },
  {
   "cell_type": "markdown",
   "metadata": {},
   "source": [
    "#### Creación\n",
    "\n",
    "Sigamos ampliando el ejercicio anterior:\n",
    "Copia todo el código que ya tengas y añade lo siguiente:\n",
    "\n",
    "* Crea una clase llamada __Pedido__ que tenga los atributos: una lista de productos y una lista de cantidades\n",
    "* Crea el __constructor__ de la clase. Añadir en el constructor un print para informar de que el pedido se ha creado con éxito\n",
    "* Crea el método __total_pedido__ el cual devuelva el importe total de un pedido\n",
    "* Crea el método __mostrar_pedido__ el cual muestra todos los productos y cantidades que componen el pedido\n",
    "\n",
    "#### Experimentación\n",
    "\n",
    "* Crea algunos pedidos\n",
    "* Prueba estos nuevos métodos que se han creado"
   ]
  },
  {
   "cell_type": "code",
   "execution_count": 5,
   "metadata": {},
   "outputs": [],
   "source": [
    "# Realizar el ejercicio aquí\n",
    "\n",
    "class Producto:\n",
    "    __codigo = \"Soy un dato protegido\"\n",
    "    \n",
    "    def __init__(self, codigo, nombre, precio, pulgadas, tipo, productos = None, importe = None):\n",
    "        self.__codigo = codigo\n",
    "        self.nombre = nombre\n",
    "        self.precio = precio\n",
    "        self.pulgadas = pulgadas\n",
    "        self.tipo = tipo\n",
    "        print(\"Se ha creado el producto\", self.nombre, \"que tiene un precio de\", self.precio, self.tipo, \"con éxito\")\n",
    "\n",
    "    def __str__(self):\n",
    "        return \"\"\"\\\n",
    "Código\\t{}\n",
    "Nombre\\t{}\n",
    "Precio\\t{}\n",
    "Pulgadas\\t{}\n",
    "Tipo\\t{}\"\"\".format(self.codigo, self.nombre, self.precio, self.pulgadas, self.tipo)\n",
    "    \n",
    "    # Getters\n",
    "    @property\n",
    "    def codigo(self):\n",
    "        print(\"ESTOY EN EL GETTER\")\n",
    "        return self.__codigo\n",
    "\n",
    "     # Setters\n",
    "    @codigo.setter\n",
    "    def codigo(self, nuevoCodigo):\n",
    "        print(\"ESTOY EN EL SETTER\")\n",
    "        self.__codigo = nuevoValor\n",
    "    \n",
    "class Pedido:\n",
    "    '''Clase Pedido'''\n",
    "    productos = None\n",
    "    cantidades = None\n",
    "\n",
    "    def __init__(self, productos, cantidades):\n",
    "        # Defino las variables como privadas (self.__codigo por ejemplo)\n",
    "        self.__productos = productos\n",
    "        self.__cantidades = cantidades\n",
    "        print(\"Pedido creado\")\n",
    "\n",
    "    def total_pedido(self):\n",
    "        total = 0\n",
    "        # zip nos sirve para recorrer dos listas a la vez, con 2 iteradores, p para la 1ª lista y c para la 2ª\n",
    "        for(p, c) in zip(self.__productos, self.__cantidades):\n",
    "            total = total + p.calcular_total(c)\n",
    "        return total"
   ]
  },
  {
   "cell_type": "code",
   "execution_count": 6,
   "metadata": {},
   "outputs": [
    {
     "name": "stdout",
     "output_type": "stream",
     "text": [
      "Se ha creado el producto TV que tiene un precio de 399 4K con éxito\n",
      "Se ha creado el producto TV que tiene un precio de 699 8K con éxito\n",
      "Se ha creado el producto TV que tiene un precio de 899 8K con éxito\n",
      "Pedido creado\n"
     ]
    }
   ],
   "source": [
    "#Creamos los productos\n",
    "producto1 = Producto(\"8GAH4\", \"TV\", 399, 43, \"4K\")\n",
    "producto2 = Producto(\"3N4R1\", \"TV\", 699, 55, \"8K\")\n",
    "producto3 = Producto(\"JL78X\", \"TV\", 899, 65, \"8K\")\n",
    "\n",
    "pedido1 = Pedido(producto1, 399)"
   ]
  },
  {
   "cell_type": "markdown",
   "metadata": {},
   "source": [
    "# Ejercicio 6"
   ]
  },
  {
   "cell_type": "markdown",
   "metadata": {},
   "source": [
    "#### Creación\n",
    "\n",
    "Trabajemeos con herencia.\n",
    "\n",
    "* Crea una clase llamada __Vehiculo__ que tenga los atributos: color y ruedas\n",
    "* Crea el __constructor__ de la clase. \n",
    "* Sobreescribe el método **string (``__str__``)**, para que al imprimir por pantalla un vehículo veamos su información\n",
    "* Crea una clase que se llame __Coche que herede de Vehiculo__\n",
    "* Crear el __constructor__ de la clase, que incluya todo lo del constructor de Vehiculo más velocidad y cilindrada.\n",
    "* Sobreescribe el método **string (``__str__``)**, para que al imprimir por pantalla un coche veamos su información\n",
    "\n",
    "<img src=\"./Herencia1.png\"  />\n",
    "\n",
    "#### Experimentación\n",
    "\n",
    "* Crea algunos coches y mostrar su información"
   ]
  },
  {
   "cell_type": "code",
   "execution_count": 10,
   "metadata": {},
   "outputs": [
    {
     "name": "stdout",
     "output_type": "stream",
     "text": [
      "El color del vehículo es negro, iba a una velocidad de 125 km/h, tiene 4 ruedas y de cilindrada 1400 cc\n"
     ]
    }
   ],
   "source": [
    "# Realizar el ejercicio aquí\n",
    "\n",
    "class Vehiculo():\n",
    "\n",
    "    def __init__(self, color, ruedas):\n",
    "        self.color = color\n",
    "        self.ruedas = ruedas\n",
    "\n",
    "    def __str__(self):\n",
    "        return \"El color del vehículo es {}, {} ruedas\".format( self.color, self.ruedas )\n",
    "\n",
    "class Coche(Vehiculo):\n",
    "\n",
    "    def __init__(self, color, velocidad, ruedas, cilindrada):\n",
    "        self.color = color\n",
    "        self.ruedas = ruedas\n",
    "        self.velocidad = velocidad\n",
    "        self.cilindrada = cilindrada\n",
    "\n",
    "    def __str__(self):\n",
    "        return \"El color del vehículo es {}, iba a una velocidad de {} km/h, tiene {} ruedas y de cilindrada {} cc\".format( self.color, self.velocidad, self.ruedas, self.cilindrada)\n",
    "\n",
    "\n",
    "coche1 = Coche(\"negro\", 125, 4, 1400)\n",
    "print(coche1)"
   ]
  },
  {
   "cell_type": "markdown",
   "metadata": {},
   "source": [
    "# Ejercicio 7"
   ]
  },
  {
   "cell_type": "markdown",
   "metadata": {},
   "source": [
    "#### Creación\n",
    "\n",
    "Trabajemos con herencia. Sigamos ampliando el ejercicio anterior.\n",
    "Copia todo el código que ya tengas y añade lo siguiente:\n",
    "\n",
    "* Crear las __clases heredadas__ de Vehiculo que aparecen en la imagen\n",
    "* Crea los __constructores__ para esas clases. \n",
    "* Sobreescribe los métodos **string (``__str__``)**, para que al imprimir por pantalla se vea la información correspondiente.\n",
    "* Crear una __lista__ y dentro de ella introducir __al menos un objeto de cada subclase__ de Vehiculo\n",
    "* Realiza una función llamada __catalogar()__ que reciba la lista de vehiculos y los recorra mostrando el nombre de su clase y sus atributos.\n",
    "* Modifica la función __catalogar()__ para que reciba un argumento optativo ruedas, haciendo que muestre únicamente los que su número de ruedas concuerde con el valor del argumento. También debe mostrar un mensaje \"Se han encontrado {} vehículos con {} ruedas:\" únicamente si se envía el argumento ruedas. Ponla a prueba con 0, 2 y 4 ruedas como valor.\n",
    "\n",
    "Pista. Averigua para que sirve esta instrucción y si te va a resultar útil **``type(objeto).__name__``**\n",
    "\n",
    "<img src=\"./Herencia2.png\"  />\n",
    "\n",
    "#### Experimentación\n",
    "\n",
    "* Crea algunos coches y mostrar su información"
   ]
  },
  {
   "cell_type": "code",
   "execution_count": 11,
   "metadata": {},
   "outputs": [
    {
     "name": "stdout",
     "output_type": "stream",
     "text": [
      "Coche color amarillo, 4 ruedas, 130 km/h, 1300 cc\n",
      "Camioneta color negro, 4 ruedas, 110 km/h, 1400 cc, 1800 kg de carga\n",
      "Bicicleta color rojo, 2 ruedas, BMX\n",
      "Motocicleta color verde, 2 ruedas, deportiva, 120 km/h, 500 cc\n",
      "\n",
      "Se han encontrado 0 vehículos con 0 ruedas:\n",
      "\n",
      "Se han encontrado 2 vehículos con 2 ruedas:\n",
      "Bicicleta color rojo, 2 ruedas, BMX\n",
      "Motocicleta color verde, 2 ruedas, deportiva, 120 km/h, 500 cc\n",
      "\n",
      "Se han encontrado 2 vehículos con 4 ruedas:\n",
      "Coche color amarillo, 4 ruedas, 130 km/h, 1300 cc\n",
      "Camioneta color negro, 4 ruedas, 110 km/h, 1400 cc, 1800 kg de carga\n"
     ]
    }
   ],
   "source": [
    "# Realizar el ejercicio aquí\n",
    "\n",
    "class Vehiculo():\n",
    "\n",
    "    def __init__(self, color, ruedas):\n",
    "        self.color = color\n",
    "        self.ruedas = ruedas\n",
    "\n",
    "    def __str__(self):\n",
    "        return \"color {}, {} ruedas\".format( self.color, self.ruedas )\n",
    "\n",
    "\n",
    "class Coche(Vehiculo):\n",
    "\n",
    "    def __init__(self, color, ruedas, velocidad, cilindrada):\n",
    "        super().__init__(color, ruedas)\n",
    "        self.velocidad = velocidad\n",
    "        self.cilindrada = cilindrada\n",
    "\n",
    "    def __str__(self):\n",
    "        return super().__str__() + \", {} km/h, {} cc\".format(\n",
    "            self.velocidad, self.cilindrada)\n",
    "\n",
    "\n",
    "class Camioneta(Coche):\n",
    "\n",
    "    def __init__(self, color, ruedas, velocidad, cilindrada, carga):\n",
    "        super().__init__(color, ruedas, velocidad, cilindrada)\n",
    "        self.carga = carga\n",
    "\n",
    "    def __str__(self):\n",
    "        return super().__str__() + \", {} kg de carga\".format(self.carga)\n",
    "\n",
    "\n",
    "class Bicicleta(Vehiculo):\n",
    "\n",
    "    def __init__(self, color, ruedas, tipo):\n",
    "        super().__init__(color, ruedas)\n",
    "        self.tipo = tipo\n",
    "\n",
    "    def __str__(self):\n",
    "        return super().__str__() + \", {}\".format(self.tipo)\n",
    "\n",
    "\n",
    "class Motocicleta(Bicicleta):\n",
    "\n",
    "    def __init__(self, color, ruedas, tipo, velocidad, cilindrada):\n",
    "        super().__init__(color, ruedas, tipo)\n",
    "        self.velocidad = velocidad\n",
    "        self.cilindrada = cilindrada\n",
    "\n",
    "    def __str__(self):\n",
    "        return super().__str__() + \", {} km/h, {} cc\".format(\n",
    "            self.velocidad, self.cilindrada) \n",
    "\n",
    "\n",
    "def catalogar(vehiculos, ruedas=None):\n",
    "\n",
    "    if ruedas != None:\n",
    "        contador = 0\n",
    "        for i in vehiculos:\n",
    "            if i.ruedas == ruedas: \n",
    "                contador += 1\n",
    "        print(\"\\nSe han encontrado {} vehículos con {} ruedas:\".format(contador, ruedas))\n",
    "\n",
    "    for i in vehiculos:\n",
    "        if ruedas == None:\n",
    "            print(type(i).__name__, i)\n",
    "        else:\n",
    "            if i.ruedas == ruedas:\n",
    "                print(type(i).__name__, i)\n",
    "\n",
    "\n",
    "lista = [\n",
    "    Coche(\"amarillo\", 4, 130, 1300),\n",
    "    Camioneta(\"negro\", 4, 110, 1400, 1800),\n",
    "    Bicicleta(\"rojo\", 2, \"BMX\"),\n",
    "    Motocicleta(\"verde\", 2, \"deportiva\", 120, 500)\n",
    "]\n",
    "\n",
    "catalogar(lista)\n",
    "catalogar(lista, 0)\n",
    "catalogar(lista, 2)\n",
    "catalogar(lista, 4)"
   ]
  },
  {
   "cell_type": "markdown",
   "metadata": {},
   "source": [
    "# Ejercicio 8"
   ]
  },
  {
   "cell_type": "markdown",
   "metadata": {},
   "source": [
    "#### Creación\n",
    "\n",
    "Trabajemos con herencia. Sigamos ampliando el ejercicio anterior.\n",
    "Copia todo el código que ya tengas y añade lo siguiente:\n",
    "\n",
    "* Un método que se llame **filtrar** que reciba 2 parámetros, la lista de vehículos y el nombre de uno de los tipos de vehículos, para poder filtrar en la lista, es decir, __Coche, Camioneta, etc.__. El método debe recorrer la lista, encontrar las coincidencias y guardarlas en una lista nueva. Esta nueva lista se debe devolver al programa principal donde se recorrerá y mostrará su contenido. La llamada en el programa principal deberá ser así: **``listaCoches = filtrar(lista, \"Coche\")``**\n",
    "\n",
    "#### Experimentación\n",
    "\n",
    "* Crea algunos vehículos (más de uno por tipo)\n",
    "* Filtra por los diferentes tipos de Vehiculo y muestra los resultados retornados"
   ]
  },
  {
   "cell_type": "code",
   "execution_count": 12,
   "metadata": {},
   "outputs": [
    {
     "name": "stdout",
     "output_type": "stream",
     "text": [
      "Coche color amarillo, 4 ruedas, 130 km/h, 1300 cc\n",
      "Coche color Negro, 4 ruedas, 120 km/h, 1300 cc\n",
      "Camioneta color negro, 4 ruedas, 110 km/h, 1400 cc, 1800 kg de carga\n",
      "Bicicleta color rojo, 2 ruedas, BMX\n",
      "Motocicleta color verde, 2 ruedas, deportiva, 120 km/h, 500 cc\n",
      "\n",
      "Se han encontrado 0 vehículos con 0 ruedas:\n",
      "\n",
      "Se han encontrado 2 vehículos con 2 ruedas:\n",
      "Bicicleta color rojo, 2 ruedas, BMX\n",
      "Motocicleta color verde, 2 ruedas, deportiva, 120 km/h, 500 cc\n",
      "\n",
      "Se han encontrado 3 vehículos con 4 ruedas:\n",
      "Coche color amarillo, 4 ruedas, 130 km/h, 1300 cc\n",
      "Coche color Negro, 4 ruedas, 120 km/h, 1300 cc\n",
      "Camioneta color negro, 4 ruedas, 110 km/h, 1400 cc, 1800 kg de carga\n",
      "################################################################################\n",
      "color amarillo, 4 ruedas, 130 km/h, 1300 cc\n",
      "color Negro, 4 ruedas, 120 km/h, 1300 cc\n"
     ]
    }
   ],
   "source": [
    "# Realizar el ejercicio aquí\n",
    "\n",
    "class Vehiculo():\n",
    "\n",
    "    def __init__(self, color, ruedas):\n",
    "        self.color = color\n",
    "        self.ruedas = ruedas\n",
    "\n",
    "    def __str__(self):\n",
    "        return \"color {}, {} ruedas\".format( self.color, self.ruedas )\n",
    "\n",
    "\n",
    "class Coche(Vehiculo):\n",
    "\n",
    "    def __init__(self, color, ruedas, velocidad, cilindrada):\n",
    "        super().__init__(color, ruedas)\n",
    "        self.velocidad = velocidad\n",
    "        self.cilindrada = cilindrada\n",
    "\n",
    "    def __str__(self):\n",
    "        return super().__str__() + \", {} km/h, {} cc\".format(\n",
    "            self.velocidad, self.cilindrada)\n",
    "\n",
    "\n",
    "class Camioneta(Coche):\n",
    "\n",
    "    def __init__(self, color, ruedas, velocidad, cilindrada, carga):\n",
    "        super().__init__(color, ruedas, velocidad, cilindrada)\n",
    "        self.carga = carga\n",
    "\n",
    "    def __str__(self):\n",
    "        return super().__str__() + \", {} kg de carga\".format(self.carga)\n",
    "\n",
    "\n",
    "class Bicicleta(Vehiculo):\n",
    "\n",
    "    def __init__(self, color, ruedas, tipo):\n",
    "        super().__init__(color, ruedas)\n",
    "        self.tipo = tipo\n",
    "\n",
    "    def __str__(self):\n",
    "        return super().__str__() + \", {}\".format(self.tipo)\n",
    "\n",
    "\n",
    "class Motocicleta(Bicicleta):\n",
    "\n",
    "    def __init__(self, color, ruedas, tipo, velocidad, cilindrada):\n",
    "        super().__init__(color, ruedas, tipo)\n",
    "        self.velocidad = velocidad\n",
    "        self.cilindrada = cilindrada\n",
    "\n",
    "    def __str__(self):\n",
    "        return super().__str__() + \", {} km/h, {} cc\".format(\n",
    "            self.velocidad, self.cilindrada) \n",
    "\n",
    "\n",
    "def catalogar(vehiculos, ruedas=None):\n",
    "\n",
    "    if ruedas != None:\n",
    "        contador = 0\n",
    "        for i in vehiculos:\n",
    "            if i.ruedas == ruedas: \n",
    "                contador += 1\n",
    "        print(\"\\nSe han encontrado {} vehículos con {} ruedas:\".format(contador, ruedas))\n",
    "\n",
    "    for i in vehiculos:\n",
    "        if ruedas == None:\n",
    "            print(type(i).__name__, i)\n",
    "        else:\n",
    "            if i.ruedas == ruedas:\n",
    "                print(type(i).__name__, i)\n",
    "                \n",
    "def filtrar():\n",
    "    if(type(lista).__name__== \"Coche\"):\n",
    "        print(\"Coche\")\n",
    "    if(type(lista).__name__== \"Camioneta\"):\n",
    "        print(\"Camioneta\")\n",
    "    if(type(lista).__name__== \"Bicicleta\"):\n",
    "        print(\"Bicicleta\")\n",
    "    if(type(lista).__name__== \"Motocicleta\"):\n",
    "        print(\"Motocicleta\")\n",
    "    def __str__(self):\n",
    "        return lista\n",
    "    \n",
    "def filtrar(listaVehiculos, vehiculoBuscado):\n",
    "    listaResultado = []\n",
    "    for v in listaVehiculos:\n",
    "        if(type(v).__name__== vehiculoBuscado):\n",
    "            listaResultado.append(v)\n",
    "    return listaResultado\n",
    "    \n",
    "lista = [\n",
    "    Coche(\"amarillo\", 4, 130, 1300),\n",
    "    Coche(\"Negro\", 4, 120, 1300),\n",
    "    Camioneta(\"negro\", 4, 110, 1400, 1800),\n",
    "    Bicicleta(\"rojo\", 2, \"BMX\"),\n",
    "    Motocicleta(\"verde\", 2, \"deportiva\", 120, 500)\n",
    "]\n",
    "\n",
    "catalogar(lista)\n",
    "catalogar(lista, 0)\n",
    "catalogar(lista, 2)\n",
    "catalogar(lista, 4)\n",
    "\n",
    "listaCoches = filtrar(lista, \"Coche\")\n",
    "print(\"#\"*80)\n",
    "for c in listaCoches:\n",
    "    print(c)"
   ]
  },
  {
   "cell_type": "code",
   "execution_count": null,
   "metadata": {},
   "outputs": [],
   "source": []
  }
 ],
 "metadata": {
  "anaconda-cloud": {},
  "kernelspec": {
   "display_name": "Python 3",
   "language": "python",
   "name": "python3"
  },
  "language_info": {
   "codemirror_mode": {
    "name": "ipython",
    "version": 3
   },
   "file_extension": ".py",
   "mimetype": "text/x-python",
   "name": "python",
   "nbconvert_exporter": "python",
   "pygments_lexer": "ipython3",
   "version": "3.7.6"
  }
 },
 "nbformat": 4,
 "nbformat_minor": 1
}
