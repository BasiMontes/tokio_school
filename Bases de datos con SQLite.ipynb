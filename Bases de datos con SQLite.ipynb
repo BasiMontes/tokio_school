{
 "cells": [
  {
   "cell_type": "markdown",
   "metadata": {},
   "source": [
    "# Ejercicios Modulo 5. Bases de datos con SQLite (Soluciones)\n",
    "\n",
    "Consideraciones a tener en cuenta: \n",
    "\n",
    "* Guardar este documento con el siguiente formato para su entrega: __M5_04_nombre_apellido1_apellido2__\n",
    "* Realizar los ejercicios con las herramientas vistas en las sesiones. \n",
    "* Comentar el código\n",
    "* Utilizar nombres de variables apropiados, si vais a guardar una nota, llamar a esa variable nota, no n o x"
   ]
  },
  {
   "cell_type": "markdown",
   "metadata": {},
   "source": [
    "**1) Practiquemos un poco con SQLite:**\n",
    "\n",
    "* Crea una base de datos que se llame biblioteca\n",
    "* Crea las siguiente tablas (deberás poner los tipos de los atributos con lógica, investiga cuales hay en SQLite para poder hacerlo):\n",
    "    * autor(dni, nombre, apellidos, estarVivo)\n",
    "    * libro(isbn, titulo, editorial, año_escrito)\n",
    "    * usuario(dni, nombre, apellidos, numPrestamos)\n",
    "* Inserta al menos 3 registros en cada una de las tablas\n",
    "    * En autor, algunos vivos y otros muertos\n",
    "    * En libro, algunos con año de escritura anerior a 1900 y otros después\n",
    "    * En usuario, algunos con más de 10 prestamos y otros con menos\n",
    "* Comprueba que todo este correcto con DB Browser (SQLite)\n",
    "* Realiza las siguientes consultas:\n",
    "    * Lista a todos los autores\n",
    "    * Lista todos los libros\n",
    "    * Lista todos los usuarios\n",
    "    * Lista todos los autores que esten vivos (CLAUSULA WHERE)\n",
    "    * Lista todos los libros que hayan sido escritos posteriormente a 1900\n",
    "    * Lista todos los usuarios que se hayan llevado más de 10 libros y que se llamen Paco\n"
   ]
  },
  {
   "cell_type": "code",
   "execution_count": 3,
   "metadata": {},
   "outputs": [],
   "source": [
    "# Completa el ejercicio aquí\n",
    "\n",
    "import sqlite3\n",
    "\n",
    "conexion = sqlite3.connect(\"biblioteca2.db\")\n",
    "cursor = conexion.cursor()\n",
    "\n",
    "cursor.execute(\"CREATE TABLE autor (dni VARCHAR(9) PRIMARY KEY, nombre VARCHAR(20) NOT NULL, apellidos VARCHAR(50) NOT NULL, estarVivo BOOLEAN)\")\n",
    "cursor.execute(\"CREATE TABLE libro (isbn VARCHAR(13) PRIMARY KEY, titulo VARCHAR(30) NOT NULL, editorial VARCHAR(20) NOT NULL, año_escrito INTEGER(4) NOT NULL)\")\n",
    "cursor.execute(\"CREATE TABLE usuario (dni VARCHAR(9), nombre VARCHAR(20) NOT NULL, apellidos VARCHAR(50) NOT NULL, numPrestamos INTEGER (2) NOT NULL)\")\n",
    "conexion.commit()\n"
   ]
  },
  {
   "cell_type": "code",
   "execution_count": 4,
   "metadata": {},
   "outputs": [],
   "source": [
    "cursor.execute(\"INSERT INTO autor VALUES ('75351025W', 'Haruki', 'Murakami', True)\")\n",
    "cursor.execute(\"INSERT INTO autor VALUES ('35426278T', 'Dante', 'Alighieri', False)\")\n",
    "cursor.execute(\"INSERT INTO autor VALUES ('65913812Y', 'Gabriel', 'García Márquez', False)\")\n",
    "\n",
    "cursor.execute(\"INSERT INTO libro VALUES ('1234657832014', 'Tokio Blues', 'Anaya', '1987')\")\n",
    "cursor.execute(\"INSERT INTO libro VALUES ('2345687832014', '1Q84', 'Anaya', '2009')\")\n",
    "cursor.execute(\"INSERT INTO libro VALUES ('9874151815118', 'Vita nuova', 'NO EDITORIAL', '1293')\")\n",
    "cursor.execute(\"INSERT INTO libro VALUES ('4563217862568', 'Divina comedia', 'NO EDITORIAL', '1321')\")\n",
    "cursor.execute(\"INSERT INTO libro VALUES ('7921050048318', 'El amor en los tiempos del cólera', 'Hispana', '1985')\")\n",
    "cursor.execute(\"INSERT INTO libro VALUES ('5678923724233', 'Cien años de soledad', 'DeBolsillo', '1967')\")\n",
    "\n",
    "cursor.execute(\"INSERT INTO usuario VALUES ('82223348M', 'Blanca', 'González', '5')\")\n",
    "cursor.execute(\"INSERT INTO usuario VALUES ('74522103T', 'Luis', 'Miranda', '11')\")\n",
    "cursor.execute(\"INSERT INTO usuario VALUES ('45178412B', 'Antonio', 'Pérez', '2')\")\n",
    "conexion.commit()\n"
   ]
  },
  {
   "cell_type": "code",
   "execution_count": 5,
   "metadata": {},
   "outputs": [],
   "source": [
    "conexion.close()"
   ]
  },
  {
   "cell_type": "code",
   "execution_count": 6,
   "metadata": {},
   "outputs": [
    {
     "name": "stdout",
     "output_type": "stream",
     "text": [
      "Autores \n",
      " [('75351025W', 'Haruki', 'Murakami', 1), ('35426278T', 'Dante', 'Alighieri', 0), ('65913812Y', 'Gabriel', 'García Márquez', 0)] \n",
      "\n",
      "Libros \n",
      " [('1234657832014', 'Tokio Blues', 'Anaya', 1987), ('2345687832014', '1Q84', 'Anaya', 2009), ('9874151815118', 'Vita nuova', 'NO EDITORIAL', 1293), ('4563217862568', 'Divina comedia', 'NO EDITORIAL', 1321), ('7921050048318', 'El amor en los tiempos del cólera', 'Hispana', 1985), ('5678923724233', 'Cien años de soledad', 'DeBolsillo', 1967)] \n",
      "\n",
      "Usuarios \n",
      " [('82223348M', 'Blanca', 'González', 5), ('74522103T', 'Luis', 'Miranda', 11), ('45178412B', 'Antonio', 'Pérez', 2)] \n",
      "\n",
      "Autores vivos \n",
      " [('75351025W', 'Haruki', 'Murakami', 1)] \n",
      "\n",
      "Libros escritos posteriormente a 1900 \n",
      " [('1234657832014', 'Tokio Blues', 'Anaya', 1987), ('2345687832014', '1Q84', 'Anaya', 2009), ('7921050048318', 'El amor en los tiempos del cólera', 'Hispana', 1985), ('5678923724233', 'Cien años de soledad', 'DeBolsillo', 1967)] \n",
      "\n",
      "Usuarios \n",
      " [] \n",
      "\n"
     ]
    }
   ],
   "source": [
    "import sqlite3\n",
    "\n",
    "conexion = sqlite3.connect(\"biblioteca2.db\")\n",
    "cursor = conexion.cursor()\n",
    "\n",
    "cursor.execute(\"SELECT * FROM autor\")\n",
    "autor = cursor.fetchall()\n",
    "print(\"Autores\",\"\\n\",autor,\"\\n\")\n",
    "\n",
    "cursor.execute(\"SELECT * FROM libro\")\n",
    "libro = cursor.fetchall()\n",
    "print(\"Libros\",\"\\n\",libro,\"\\n\")\n",
    "\n",
    "cursor.execute(\"SELECT * FROM usuario\")\n",
    "usuarios = cursor.fetchall()\n",
    "print(\"Usuarios\",\"\\n\", usuarios, \"\\n\")\n",
    "\n",
    "cursor.execute(\"SELECT * FROM autor WHERE estarVivo = True\")\n",
    "autor_vivos = cursor.fetchall()\n",
    "print(\"Autores vivos\",\"\\n\",autor_vivos,\"\\n\")\n",
    "\n",
    "cursor.execute(\"SELECT * FROM libro WHERE año_escrito >= 1900\")\n",
    "libro_1900 = cursor.fetchall()\n",
    "print(\"Libros escritos posteriormente a 1900\",\"\\n\",libro_1900,\"\\n\")\n",
    "\n",
    "cursor.execute(\"SELECT * FROM usuario WHERE numPrestamos > 10 AND nombre = 'Paco'\")\n",
    "paco_10prestamos = cursor.fetchall()\n",
    "print(\"Usuarios\",\"\\n\", paco_10prestamos, \"\\n\")\n"
   ]
  },
  {
   "cell_type": "code",
   "execution_count": 7,
   "metadata": {},
   "outputs": [],
   "source": [
    "conexion.close()"
   ]
  },
  {
   "cell_type": "code",
   "execution_count": null,
   "metadata": {},
   "outputs": [],
   "source": []
  }
 ],
 "metadata": {
  "anaconda-cloud": {},
  "kernelspec": {
   "display_name": "Python 3",
   "language": "python",
   "name": "python3"
  },
  "language_info": {
   "codemirror_mode": {
    "name": "ipython",
    "version": 3
   },
   "file_extension": ".py",
   "mimetype": "text/x-python",
   "name": "python",
   "nbconvert_exporter": "python",
   "pygments_lexer": "ipython3",
   "version": "3.7.6"
  }
 },
 "nbformat": 4,
 "nbformat_minor": 1
}
