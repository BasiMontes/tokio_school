{
 "cells": [
  {
   "cell_type": "markdown",
   "metadata": {},
   "source": [
    "# Ejercicios Modulo 2. Unidad 2. Métodos aplicados"
   ]
  },
  {
   "cell_type": "markdown",
   "metadata": {},
   "source": [
    "**1) Solicita por teclado un texto al usuario y decir si:**\n",
    "* El texto es una cadena de texto\n",
    "* El texto es una cadena de dígitos\n",
    "* El texto incluye caracteres y números"
   ]
  },
  {
   "cell_type": "code",
   "execution_count": 39,
   "metadata": {},
   "outputs": [
    {
     "name": "stdout",
     "output_type": "stream",
     "text": [
      "Introduzca un texto: 44\n",
      "False\n",
      "True\n",
      "True\n"
     ]
    }
   ],
   "source": [
    "# Completa el ejercicio aquí\n",
    "\n",
    "texto = input(\"Introduzca un texto: \")\n",
    "\n",
    "# Determina si todos los caracteres son alfabéticos.\n",
    "print(texto.isalpha())\n",
    "\n",
    "# Determina si todos los caracteres son números.\n",
    "print(texto.isdigit())\n",
    "\n",
    "# Determina si todos los caracteres son alfanuméricos.\n",
    "print(texto.isalnum())"
   ]
  },
  {
   "cell_type": "markdown",
   "metadata": {},
   "source": [
    "**2) Solicita al usuario un texto y una palabra a buscar dentro del texto. Si la localiza, extraer desde esa posición hasta el final de la frase y almacenarlo en otra variable.** \n",
    "* Ejemplo de texto: Hola mundo que tal \n",
    "* Buscamos: mundo \n",
    "* Resultado: mundo que tal"
   ]
  },
  {
   "cell_type": "code",
   "execution_count": 16,
   "metadata": {},
   "outputs": [
    {
     "name": "stdout",
     "output_type": "stream",
     "text": [
      "Introduzca un texto: hol\n",
      "Qué pena! No he encontrado la letra a.. =(\n"
     ]
    }
   ],
   "source": [
    "# Completa el ejercicio aquí\n",
    "\n",
    "texto = input(\"Introduzca un texto: \")\n",
    "\n",
    "if letra_a_encontrada == texto.find(\"a\"):\n",
    "    print(\"Enhorabuena! He encontrado la letra a! =)\")\n",
    "elif letra_a_encontrada != texto.find(\"a\"):\n",
    "    print(\"Qué pena! No he encontrado la letra a.. =(\")"
   ]
  },
  {
   "cell_type": "markdown",
   "metadata": {},
   "source": [
    "**3) Partiendo de una frase con diferentes palabras separadas por espacios, crear una lista donde cada elemento sea cada palabra del texto. Mostrar dicha lista y mostrar el número de veces que se encuentra la palabra mundo en esa lista**"
   ]
  },
  {
   "cell_type": "code",
   "execution_count": 34,
   "metadata": {},
   "outputs": [
    {
     "name": "stdout",
     "output_type": "stream",
     "text": [
      "['Soy', 'un', 'texto', 'mundo', 'con', 'diferentes', 'mundo', 'palabras', 'separadas', 'por', 'mundo', 'espacios']\n",
      "La palabra mundo aparece 3 veces\n"
     ]
    }
   ],
   "source": [
    "# Completa el ejercicio aquí\n",
    "\n",
    "texto = \"Soy un texto mundo con diferentes mundo palabras separadas por mundo espacios\".split(\" \")\n",
    "\n",
    "print(texto)\n",
    "print(\"La palabra mundo aparece\", texto.count(\"mundo\"),\"veces\")"
   ]
  }
 ],
 "metadata": {
  "anaconda-cloud": {},
  "kernelspec": {
   "display_name": "Python 3",
   "language": "python",
   "name": "python3"
  },
  "language_info": {
   "codemirror_mode": {
    "name": "ipython",
    "version": 3
   },
   "file_extension": ".py",
   "mimetype": "text/x-python",
   "name": "python",
   "nbconvert_exporter": "python",
   "pygments_lexer": "ipython3",
   "version": "3.7.6"
  }
 },
 "nbformat": 4,
 "nbformat_minor": 1
}
