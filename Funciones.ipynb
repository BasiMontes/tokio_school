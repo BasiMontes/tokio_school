{
 "cells": [
  {
   "cell_type": "markdown",
   "metadata": {},
   "source": [
    "# Ejercicios Modulo 2. Funciones"
   ]
  },
  {
   "cell_type": "markdown",
   "metadata": {},
   "source": [
    "**1) Realiza una función que devuelva el área de un rectángulo a partir de su base y su altura. La función se llamará area_rectangulo(). La base y la altura se pedirán al usuario por teclado.**\n",
    "\n",
    "*Nota: El área de un rectángulo se obtiene al multiplicar la base por la altura.*"
   ]
  },
  {
   "cell_type": "code",
   "execution_count": 1,
   "metadata": {},
   "outputs": [
    {
     "name": "stdout",
     "output_type": "stream",
     "text": [
      "Introduzca por teclado la base del rectángulo: 5\n",
      "Introduzca por teclado la altura del rectángulo: 4\n",
      "El área del rectágulo es: 20 cm2\n"
     ]
    }
   ],
   "source": [
    "# Completa el ejercicio aquí\n",
    "\n",
    "def area_rectangulo(base, altura):\n",
    "    area = base * altura\n",
    "    return area\n",
    "\n",
    "base = int(input(\"Introduzca por teclado la base del rectángulo: \", ))\n",
    "altura = int(input(\"Introduzca por teclado la altura del rectángulo: \", ))\n",
    "\n",
    "print (\"El área del rectágulo es:\", area_rectangulo(base, altura),\"cm2\")"
   ]
  },
  {
   "cell_type": "markdown",
   "metadata": {},
   "source": [
    "**2) Realiza una función que devuelva el área de un círculo a partir de un radio. La función se llamará area_circulo(). El radio se pedirá al usuario por teclado:**\n",
    "\n",
    "Nota: El área de un círculo se obtiene al elevar el radio a dos y multiplicando el resultado por el número pi. Puedes utilizar el valor 3.14159 como pi o importarlo del módulo math:\n",
    "```python\n",
    "import math\n",
    "print(math.pi)\n",
    "> 3.1415...\n",
    "```"
   ]
  },
  {
   "cell_type": "code",
   "execution_count": 2,
   "metadata": {},
   "outputs": [
    {
     "name": "stdout",
     "output_type": "stream",
     "text": [
      "Introduzca por teclado el radio del círculo: 54\n",
      "El área del círculo es: 9160.8842 cm2\n"
     ]
    }
   ],
   "source": [
    "# Completa el ejercicio aquí\n",
    "import math\n",
    "pi = math.pi\n",
    "\n",
    "def area_circulo(radio, pi):\n",
    "    area = (radio**2) * pi\n",
    "    return area\n",
    "\n",
    "radio = int(input(\"Introduzca por teclado el radio del círculo: \", ))\n",
    "\n",
    "print (\"El área del círculo es:\", round(area_circulo(radio, pi), 4),\"cm2\")"
   ]
  },
  {
   "cell_type": "markdown",
   "metadata": {},
   "source": [
    "**3) Realiza una función que a partir de dos números que se solicitan por teclado al usuario y que se llamará relacion(), cumpla lo siguiente:**\n",
    "\n",
    "* Si el primer número es mayor que el segundo, debe devolver 1.\n",
    "* Si el primer número es menor que el segundo, debe devolver -1.\n",
    "* Si ambos números son iguales, debe devolver un 0.\n",
    "\n",
    "**Comprueba la relación entre los números: '5 y 10', '10 y 5' y '5 y 5'**"
   ]
  },
  {
   "cell_type": "code",
   "execution_count": 3,
   "metadata": {},
   "outputs": [
    {
     "name": "stdout",
     "output_type": "stream",
     "text": [
      "Introduzca por teclado un número: 60\n",
      "Introduzca por teclado un número: 50\n",
      "El primer número es mayor que el segundo\n",
      "1\n"
     ]
    }
   ],
   "source": [
    "# Completa el ejercicio aquí\n",
    "\n",
    "def relacion(num1, num2):\n",
    "    if num1 > num2:\n",
    "        print(\"El primer número es mayor que el segundo\")\n",
    "        return 1\n",
    "    elif num1 < num2:\n",
    "        print(\"El primer número es menor que el segundo\")\n",
    "        return -1\n",
    "    elif num1 == num2:\n",
    "        print(\"Ambos números son iguales\")\n",
    "        return 0\n",
    "\n",
    "num1 = int(input(\"Introduzca por teclado un número: \", ))\n",
    "num2 = int(input(\"Introduzca por teclado un número: \", ))\n",
    "\n",
    "print (relacion(num1, num2))"
   ]
  },
  {
   "cell_type": "markdown",
   "metadata": {},
   "source": [
    "**4) Realiza una función llamada lee_numero() que solicite y lea por teclado un numero. Utilizar esta función para pedirle al usuario 3 números. Luego pasarle estos 3 números a una función que se llame mayor() que tenga 3 parámetros y que devuelva el número mayor de los 3:**"
   ]
  },
  {
   "cell_type": "code",
   "execution_count": 1,
   "metadata": {},
   "outputs": [
    {
     "name": "stdout",
     "output_type": "stream",
     "text": [
      "Introduzca el primer número: 5\n",
      "Introduzca el segundo número: 4\n",
      "Introduzca el tercer número: 8\n",
      "El numero mayor de los tres es: \n",
      "8\n"
     ]
    }
   ],
   "source": [
    "# Completa el ejercicio aquí\n",
    "\n",
    "def mayor(numero1,numero2,numero3):\n",
    "    print(\"El numero mayor de los tres es: \")\n",
    "    if numero1>numero2 and numero1>numero3:\n",
    "        print(numero1)\n",
    "    else:\n",
    "        if numero2>numero3:\n",
    "            print(numero2)\n",
    "        else:\n",
    "            print(numero3)\n",
    "\n",
    "\n",
    "def lee_numero():\n",
    "    numero1 = int(input(\"Introduzca el primer número: \"))\n",
    "    numero2 = int(input(\"Introduzca el segundo número: \"))\n",
    "    numero3 = int(input(\"Introduzca el tercer número: \"))\n",
    "    mayor(numero1,numero2,numero3)\n",
    "\n",
    "lee_numero()"
   ]
  },
  {
   "cell_type": "markdown",
   "metadata": {},
   "source": [
    "**5) Realizar una función llamada imc(). Esta función nos proporcionará el estado nutricional de una persona. Esto es; la clasificación de su índice de masa corporal (IMC), según la tabla proporcionada. La función recibirá el peso (en kilos) y la talla de una persona (en metros con dos decimales), datos a partir de los cuales se puede calcular el IMC cómo:**\n",
    "\n",
    "IMC = peso / (altura * altura)\n",
    "\n",
    "Clasificación: IMC (Kg/m^2)\n",
    "* Bajo peso:  < 18.50\n",
    "* Normal:      [18.50, 25.00)\n",
    "* Sobrepeso: >= 25.00\n",
    "* Obesidad: >= 30.00"
   ]
  },
  {
   "cell_type": "code",
   "execution_count": 32,
   "metadata": {},
   "outputs": [
    {
     "name": "stdout",
     "output_type": "stream",
     "text": [
      "Introduzca por teclado su peso(Kg): 76\n",
      "Introduzca por teclado usu altura(M): 1.80\n",
      "Su índice de masa corporal es 23.46\n",
      "Peso normal\n"
     ]
    }
   ],
   "source": [
    "# Completa el ejercicio aquí\n",
    "def imc(peso, altura):\n",
    "    return peso / altura**2\n",
    "\n",
    "peso = float(input(\"Introduzca por teclado su peso(Kg): \" ))\n",
    "altura = float(input(\"Introduzca por teclado usu altura(M): \" ))\n",
    "\n",
    "indice_masa_corporal = imc(peso, altura)\n",
    "\n",
    "print(f\"Su índice de masa corporal es {round(indice_masa_corporal, 2)}\")\n",
    "\n",
    "if indice_masa_corporal < 18.50:\n",
    "    print(\"Bajo peso\")\n",
    "elif indice_masa_corporal >= 18.50 and indice_masa_corporal <= 25.00:\n",
    "    print(\"Peso normal\")\n",
    "elif indice_masa_corporal >= 25.00:\n",
    "    print(\"Sobrepeso\")\n",
    "elif indice_masa_corporal >= 30.00:\n",
    "    print(\"Obesidad\")\n"
   ]
  },
  {
   "cell_type": "code",
   "execution_count": null,
   "metadata": {},
   "outputs": [],
   "source": []
  }
 ],
 "metadata": {
  "anaconda-cloud": {},
  "kernelspec": {
   "display_name": "Python 3",
   "language": "python",
   "name": "python3"
  },
  "language_info": {
   "codemirror_mode": {
    "name": "ipython",
    "version": 3
   },
   "file_extension": ".py",
   "mimetype": "text/x-python",
   "name": "python",
   "nbconvert_exporter": "python",
   "pygments_lexer": "ipython3",
   "version": "3.7.6"
  }
 },
 "nbformat": 4,
 "nbformat_minor": 1
}
