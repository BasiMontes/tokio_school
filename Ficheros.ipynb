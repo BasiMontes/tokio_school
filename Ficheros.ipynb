{
 "cells": [
  {
   "cell_type": "markdown",
   "metadata": {},
   "source": [
    "# Ejercicios Modulo 5. Ficheros"
   ]
  },
  {
   "cell_type": "markdown",
   "metadata": {},
   "source": [
    "**1) En este ejercicio deberás crear un programa que abra y lea un fichero de texto, y nos proporcione la siguiente información:**\n",
    "\n",
    "* Nombre del fichero\n",
    "* Si el fichero esta cerrado o no (True o False)\n",
    "* El modo de apertura del fichero\n",
    "\n",
    "El fichero de texto se denominará **pruebas.txt** y tendrá el siguiente contenido en texto plano (créalo previamente):\n",
    "\n",
    "```\n",
    "Hola que tal estas\n",
    "Esto es una prueba\n",
    "Hoy no llueve\n",
    "Se acerca la navidad\n",
    "Hasta luego y muy buenas\n",
    "```\n",
    "\n",
    "Busca en la documentación que métodos nos proporcionan la información requerida. Por último, lista el contenido del fichero.\n",
    "\n",
    "**Aviso importante**: *Si quieres leer un fichero que no se ha escrito directamente con Python, entonces es posible que encuentres errores de codificación al mostrar algunos caracteres. Asegúrate de indicar la codificación del fichero manualmente durante la apertura como argumento en el **open**, por ejemplo con UTF-8:*\n",
    "\n",
    "```python\n",
    "open(..., encoding=\"utf8\")\n",
    "```"
   ]
  },
  {
   "cell_type": "code",
   "execution_count": 30,
   "metadata": {},
   "outputs": [
    {
     "name": "stdout",
     "output_type": "stream",
     "text": [
      "El archivo se ha cerrado correctamente\n",
      "pruebas.txt\n"
     ]
    }
   ],
   "source": [
    "# Completa el ejercicio aquí\n",
    "\n",
    "pruebas = open(\"pruebas.txt\",\"r\", encoding=\"utf8\")\n",
    "\n",
    "pruebas.close()\n",
    "\n",
    "if pruebas.closed: \n",
    "    print(\"El archivo se ha cerrado correctamente\")\n",
    "else: \n",
    "    print(\"El archivo permanece abierto\")\n",
    "    \n",
    "nombre = pruebas.name\n",
    "print(nombre)"
   ]
  },
  {
   "cell_type": "markdown",
   "metadata": {},
   "source": [
    "**2) Sobre el fichero anterior, obtén la siguiente información:**\n",
    "\n",
    "* Lectura de una línea del fichero\n",
    "* Lectura del fichero línea a línea"
   ]
  },
  {
   "cell_type": "code",
   "execution_count": 32,
   "metadata": {},
   "outputs": [
    {
     "name": "stdout",
     "output_type": "stream",
     "text": [
      "Hola que tal estas\n",
      "\n",
      "Hola que tal estas\n",
      "Esto es una prueba\n",
      "Hoy no llueve\n",
      "Se acerca la navidad\n",
      "Hasta luego y muy buenas\n"
     ]
    }
   ],
   "source": [
    "# Completa el ejercicio aquí\n",
    "\n",
    "pruebas = open(\"pruebas.txt\",\"r\", encoding=\"utf8\")\n",
    "\n",
    "una_linea = pruebas.readline()\n",
    "print(una_linea)\n",
    "\n",
    "with open(\"pruebas.txt\",\"r\", encoding=\"utf8\") as fichero_pruebas:\n",
    "    lineas = fichero_pruebas.read()\n",
    "    print(lineas)\n",
    "\n",
    "pruebas.close()"
   ]
  },
  {
   "cell_type": "markdown",
   "metadata": {},
   "source": [
    "**3) Sobre el fichero anterior, realiza la siguiente operación:**\n",
    "\n",
    "* Abrir el fichero en modo escritura (concatenando el contenido, sin sobrescribirlo) y escribir una nueva línea de texto\n",
    "\n",
    "Comprueba que este funcionando correctamente comprobando el fichero (tendrás que cerrarlo y abrirlo para poder visualizar los cambios)."
   ]
  },
  {
   "cell_type": "code",
   "execution_count": 34,
   "metadata": {},
   "outputs": [
    {
     "name": "stdout",
     "output_type": "stream",
     "text": [
      "Hola que tal estas\n",
      "Esto es una prueba\n",
      "Hoy no llueve\n",
      "Se acerca la navidad\n",
      "Hasta luego y muy buenas\n",
      "Hola de nuevo, \n",
      "esto sigue siendo una prueba\n",
      "Hola de nuevo, \n",
      "esto sigue siendo una prueba\n"
     ]
    }
   ],
   "source": [
    "# Completa el ejercicio aquí\n",
    "\n",
    "pruebas = open(\"pruebas.txt\",\"a\", encoding=\"utf8\")\n",
    "pruebas.write(\"\\nHola de nuevo, \\nesto sigue siendo una prueba\")\n",
    "pruebas.close()\n",
    "\n",
    "with open(\"pruebas.txt\",\"r\", encoding=\"utf8\") as fichero_pruebas:\n",
    "    lineas = fichero_pruebas.read()\n",
    "    print(lineas)\n",
    "\n",
    "pruebas.close()"
   ]
  },
  {
   "cell_type": "markdown",
   "metadata": {},
   "source": [
    "**4) Sobre el fichero anterior, realiza la siguiente operación:**\n",
    "\n",
    "* Abrir el fichero en modo escritura (sobrescribiendo el contenido) y escribir una nueva línea de texto\n",
    "\n",
    "Comprueba que este funcionando correctamente comprobando el fichero (tendrás que cerrarlo y abrirlo para poder visualizar los cambios)."
   ]
  },
  {
   "cell_type": "code",
   "execution_count": 36,
   "metadata": {},
   "outputs": [
    {
     "name": "stdout",
     "output_type": "stream",
     "text": [
      "\n",
      "Hola que tal estas \n",
      "Esto es una prueba\n"
     ]
    }
   ],
   "source": [
    "# Completa el ejercicio aquí\n",
    "pruebas = open(\"pruebas.txt\",\"w\", encoding=\"utf8\")\n",
    "pruebas.write(\"\\nHola que tal estas \\nEsto es una prueba\")\n",
    "pruebas.close()\n",
    "\n",
    "with open(\"pruebas.txt\",\"r\", encoding=\"utf8\") as fichero_pruebas:\n",
    "    lineas = fichero_pruebas.read()\n",
    "    print(lineas)\n",
    "\n",
    "pruebas.close()"
   ]
  },
  {
   "cell_type": "markdown",
   "metadata": {},
   "source": [
    "**5) En este ejercicio deberás crear un programa que lea los datos de un fichero de texto, que transforme cada fila en un diccionario y lo añada a una lista llamada personas. Luego recorre las personas de la lista y para cada una muestra de forma amigable todos sus campos. Por ejemplo así:**\n",
    "\n",
    "```\n",
    "(id=1) Carlos Pérez => 05/01/1989 \n",
    "```\n",
    "\n",
    "El fichero de texto se denominará **personas.txt** y tendrá el siguiente contenido en texto plano (créalo previamente):\n",
    "\n",
    "```\n",
    "1;Carlos;Pérez;05/01/1989\n",
    "2;Manuel;Heredia;26/12/1973\n",
    "3;Rosa;Campos;12/06/1961\n",
    "4;David;García;25/07/2006\n",
    "```\n",
    "\n",
    "Los campos del diccionario serán por orden: **id**, **nombre**, **apellido** y **nacimiento**.\n",
    "\n",
    "**Aviso importante**: *Si quieres leer un fichero que no se ha escrito directamente con Python, entonces es posible que encuentres errores de codificación al mostrar algunos caracteres. Asegúrate de indicar la codificación del fichero manualmente durante la apertura como argumento en el **open**, por ejemplo con UTF-8:*\n",
    "\n",
    "```python\n",
    "open(..., encoding=\"utf8\")\n",
    "```\n",
    "\n",
    "Pista: Es posible que tengas que recurrir a funciones como replace o split para poder modificar el texto de una línea de texto. Busca documentación sobre ello."
   ]
  },
  {
   "cell_type": "code",
   "execution_count": 56,
   "metadata": {},
   "outputs": [
    {
     "name": "stdout",
     "output_type": "stream",
     "text": [
      "ID = 1: Carlos Pérez -> 05/01/1989 \n",
      "ID = 2: Manuel Heredia -> 26/12/1973 \n",
      "ID = 3: Rosa Campos -> 12/06/1961 \n",
      "ID = 4: David García -> 25/07/2006 \n"
     ]
    }
   ],
   "source": [
    "# Completa el ejercicio aquí\n",
    "\n",
    "fichero = open('personas.txt', 'r', encoding=\"utf8\")\n",
    "lineas = fichero.readlines()\n",
    "fichero.close()\n",
    "\n",
    "personas = []\n",
    "for linea in lineas:\n",
    "    campos = linea.replace(\"\\n\", \"\").split(\";\")  \n",
    "    persona = {\"id\":campos[0], \"nombre\":campos[1], \"apellido\":campos[2], \"nacimiento\":campos[3]}\n",
    "    personas.append(persona)\n",
    "\n",
    "for i in personas:\n",
    "    print(\"ID = {}: {} {} -> {} \".format( i['id'], i['nombre'], i['apellido'], i['nacimiento']) )"
   ]
  },
  {
   "cell_type": "code",
   "execution_count": null,
   "metadata": {},
   "outputs": [],
   "source": []
  }
 ],
 "metadata": {
  "anaconda-cloud": {},
  "kernelspec": {
   "display_name": "Python 3",
   "language": "python",
   "name": "python3"
  },
  "language_info": {
   "codemirror_mode": {
    "name": "ipython",
    "version": 3
   },
   "file_extension": ".py",
   "mimetype": "text/x-python",
   "name": "python",
   "nbconvert_exporter": "python",
   "pygments_lexer": "ipython3",
   "version": "3.7.6"
  }
 },
 "nbformat": 4,
 "nbformat_minor": 1
}
