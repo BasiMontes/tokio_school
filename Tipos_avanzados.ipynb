{
 "cells": [
  {
   "cell_type": "markdown",
   "metadata": {},
   "source": [
    "# Ejercicios Modulo 2. Tipos avanzados"
   ]
  },
  {
   "cell_type": "markdown",
   "metadata": {},
   "source": [
    "## Ejercicios de tipos avanzados"
   ]
  },
  {
   "cell_type": "markdown",
   "metadata": {},
   "source": [
    "**1) Trabajemos con listas y tuplas**\n",
    "* Crea una lista y una tupla que contenga strings (al menos 3 elementos). Temática libre, sobre lo que quieras, vehículos, comida, música, etc.\n",
    "* Muestra la lista y la tupla\n",
    "* Muestra el 2º elemento de la lista y el penúltimo de la tupla\n",
    "* Modifica (si se puede) algún elemento de la lista y de la tupla. Y mostrar el resultado\n",
    "* Muestra el tamaño de la lista y de la tupla\n",
    "* Realiza una búsqueda de un elemento dentro de la lista y de la tupla. Mostrar si devuelve True o False\n",
    "* Añade (si se puede) algún elemento a la lista y a la tupla. Mostrar de nuevo la lista y la tupla para verificar si se ha realizado correctamente la acción.\n",
    "* Borra o elimina (si se puede) el contenido de la lista y de la tupla. Mostrar de nuevo la lista y la tupla para verificar si se ha realizado correctamente la acción\n",
    "\n"
   ]
  },
  {
   "cell_type": "code",
   "execution_count": null,
   "metadata": {},
   "outputs": [],
   "source": [
    "# Completa el ejercicio aquí\n",
    "# Creación\n",
    "obras_arte = [\"El nacimiento de Venus\", \"Las meninas\", \"El Beso\", \"La creación de Adán\"]\n",
    "pintores = (\"Botticelli\", \"Velázquez\", \"Klimt\", \"Miguel Ángel\")\n",
    "\n",
    "# Mostrar\n",
    "print(obras_arte)\n",
    "print(pintores)\n",
    "\n",
    "# Mostrar elementos especificos\n",
    "obras_arte[1]\n",
    "pintores[-2]\n",
    "\n",
    "# Modificar\n",
    "obras_arte[1] = \"La Gioconda\"\n",
    "obras_arte.append(\"Las meninas\")\n",
    "print(obras_arte)\n",
    "\n",
    "# Tamaño\n",
    "len(obras_arte)\n",
    "len(pintores)\n",
    "\n",
    "# Busqueda de elementos\n",
    "\"Klimt\" in pintores\n",
    "\n",
    "# Añadir elementos\n",
    "obras_arte.insert(2, \"La última cena\")\n",
    "print(obras_arte)\n",
    "\n",
    "# Borrado\n",
    "obras_arte.remove(\"La creación de Adán\")\n",
    "print(obras_arte)"
   ]
  },
  {
   "cell_type": "markdown",
   "metadata": {},
   "source": [
    "**2) Trabajemos con sets y diccionarios**\n",
    "* Crea una set y un diccionario que contengan strings (al menos 3 elementos en el caso del set y 3 conjuntos de clave:valor en el caso del diccionario). Temática libre, sobre lo que quieras, vehículos, comida, música, etc.\n",
    "* Muestra el set y el diccionario\n",
    "* Muestra (si se puede) el 2º elemento del set y el valor del primer clave-valor del diccionario\n",
    "* Modifica (si se puede) algún elemento del set o del diccionario. Y mostrar el resultado\n",
    "* Muestra el tamaño del set y del diccionario\n",
    "* Realiza una búsqueda de un elemento dentro del set y dentro del diccionario. Mostrar si devuelve True o False\n",
    "* Añade (si se puede) algún elemento al set y algun clave-valor al diccionario. Mostrar de nuevo el set y el diccionario para verificar si se ha realizado correctamente la acción.\n",
    "* Borra o elimina (si se puede) el contenido del set y del diccionario. Mostrar de nuevo el set y el diccionario para verificar si se ha realizado correctamente la acción\n",
    "\n"
   ]
  },
  {
   "cell_type": "code",
   "execution_count": null,
   "metadata": {},
   "outputs": [],
   "source": [
    "# Completa el ejercicio aquí\n",
    "# Creacion\n",
    "capitales_europeas = {\"Roma\", \"Madrid\", \"París\", \"Londres\"}\n",
    "pintores_obras = {\n",
    "    \"Botticelli\":\"El nacimiento de Venus\",\n",
    "    \"Velázquez\":\"Las meninas\",\n",
    "    \"Klimt\":\"El Beso\",\n",
    "    \"Miguel Ángel\":\"La creación de Adán\"\n",
    "}\n",
    "\n",
    "# Mostrar\n",
    "print(capitales_europeas)\n",
    "print(pintores_obras)\n",
    "\n",
    "# Mostrar elementos especificos\n",
    "pintores_obras[\"Botticelli\"]\n",
    "\n",
    "# Modificar\n",
    "capitales_europeas.add(\"Bruselas\")\n",
    "print(capitales_europeas)\n",
    "\n",
    "pintores_obras[\"Klimt\"] = \"Muerte y Vida\"\n",
    "print(pintores_obras)\n",
    "\n",
    "# Tamaño\n",
    "len(capitales_europeas)\n",
    "len(pintores_obras)\n",
    "\n",
    "# Busqueda de elementos\n",
    "\"Roma\" in capitales_europeas\n",
    "\"Velázquez\" in pintores_obras\n",
    "\n",
    "# Añadir elementos\n",
    "capitales_europeas.add(\"Zagreb\")\n",
    "print(capitales_europeas)\n",
    "\n",
    "pintores_obras[\"Van Gogh\"] = \"La noche estrellada\"\n",
    "print(pintores_obras)\n",
    "\n",
    "# Borrado\n",
    "capitales_europeas.remove(\"Madrid\")\n",
    "print(capitales_europeas)\n",
    "\n",
    "pintores_obras.pop(\"Velázquez\")\n",
    "print(pintores_obras)"
   ]
  },
  {
   "cell_type": "markdown",
   "metadata": {},
   "source": [
    "**3) Realizar un programa que pida al usuario 3 números que pueden ser flotantes (no es necesario realizar bucles aún, podemos repetir el código), estos números se deberán introducir en una lista. Cuando se haya finalizado la introducción de los datos, se mostrará el sumatorio de toda la lista. Guardar el sumatorio en una variable que se llame \"sumatorio\"**\n",
    "\n",
    "*Ayuda: Existe una función llamada sum(lista) ¡Pruébalo!*"
   ]
  },
  {
   "cell_type": "code",
   "execution_count": 18,
   "metadata": {
    "scrolled": true
   },
   "outputs": [
    {
     "name": "stdout",
     "output_type": "stream",
     "text": [
      "8.5\n",
      "4.9\n",
      "6.3\n"
     ]
    }
   ],
   "source": [
    "# Completa el ejercicio aquí\n",
    "num1 = float(input())\n",
    "num2 = float(input())\n",
    "num3 = float(input())\n",
    "\n",
    "lista = [num1, num2, num3]\n"
   ]
  },
  {
   "cell_type": "code",
   "execution_count": 22,
   "metadata": {},
   "outputs": [
    {
     "name": "stdout",
     "output_type": "stream",
     "text": [
      "19.7\n"
     ]
    }
   ],
   "source": [
    "sumatorio = sum(lista)\n",
    "print(sumatorio)"
   ]
  },
  {
   "cell_type": "markdown",
   "metadata": {},
   "source": [
    "**4) Sobre el ejercicio anterior, queremos mostrar la media aritmética de los elementos de esa lista. Indicar la instrucción necesaria para obtenerla.**\n",
    "\n",
    "*En este caso sabemos que el número de elementos que ha introducido el usuario es 3, pero en otra ocasión podría ser diferente, por lo tanto, no hagáis referencia al número 3 en ningún sitio*"
   ]
  },
  {
   "cell_type": "code",
   "execution_count": 30,
   "metadata": {},
   "outputs": [
    {
     "name": "stdout",
     "output_type": "stream",
     "text": [
      "6.566666666666666\n"
     ]
    }
   ],
   "source": [
    "# Completa el ejercicio aquí\n",
    "import statistics as stats\n",
    "\n",
    "print(stats.mean(lista))"
   ]
  },
  {
   "cell_type": "markdown",
   "metadata": {},
   "source": [
    "**5) Dada la siguiente matriz (lista con cuatro listas anidadas) se observa que en cada fila, el cuarto elemento siempre debe ser el resultado de sumar los tres primeros. \n",
    "Pista: Modifica las sumas erróneas utilizando slicing**\n",
    "\n",
    "* No vale poner directamente los valores (ni los índices ni la suma):\n",
    "* matriz[1][3] = 6\n",
    "* matriz[3][3] = 12\n",
    "* Hay que buscar una forma automatizada de acceder y modificar esos valores"
   ]
  },
  {
   "cell_type": "code",
   "execution_count": 32,
   "metadata": {},
   "outputs": [
    {
     "name": "stdout",
     "output_type": "stream",
     "text": [
      "[[1, 1, 1, 3], [2, 2, 2, 6], [3, 3, 3, 9], [4, 4, 4, 12]]\n"
     ]
    }
   ],
   "source": [
    "matriz = [ \n",
    "    [1, 1, 1, 3],\n",
    "    [2, 2, 2, 7],\n",
    "    [3, 3, 3, 9],\n",
    "    [4, 4, 4, 13]\n",
    "]\n",
    "\n",
    "# Completa el ejercicio aquí\n",
    "matriz[1][-1] = sum(matriz[1][:-1])\n",
    "matriz[3][-1] = sum(matriz[3][:-1])\n",
    "\n",
    "print(matriz)"
   ]
  },
  {
   "cell_type": "markdown",
   "metadata": {},
   "source": [
    "**6) Supongamos que obtenemos una cadena de texto corrupta, esta al revés. Esta cadena contiene el nombre y la nota de un alumno. Formatear dicha cadena para obtener el siguiente formato:**\n",
    "\n",
    "* ***Nombre*** ***Apellido*** ha sacado un ***Nota*** de nota.\n",
    "\n",
    "*Pista: Para voltear una cadena usando técnicas de slicing se puede utilizar un tercer índice -1: cadena[::-1]*"
   ]
  },
  {
   "cell_type": "code",
   "execution_count": 35,
   "metadata": {},
   "outputs": [
    {
     "name": "stdout",
     "output_type": "stream",
     "text": [
      "10,Carlos Perez\n",
      "Carlos Perez ha sacado un 10 de nota.\n"
     ]
    }
   ],
   "source": [
    "cadena = \"zereP solraC,01\"\n",
    "\n",
    "# Completa el ejercicio aquí\n",
    "cadena_reves = cadena[::-1]\n",
    "print(cadena_reves)\n",
    "print(cadena_reves[3:], \"ha sacado un\", cadena_reves[:2], \"de nota.\")"
   ]
  },
  {
   "cell_type": "markdown",
   "metadata": {},
   "source": [
    "**7) Realizar un programa que cumpla las siguientes instrucciones:**\n",
    "* Crear un conjunto llamado usuarios con los usuarios Marta, David, Elvira, Juan y Marcos\n",
    "* Crear un conjunto llamado administradores con los administradores Juan y Marta.\n",
    "* Borra al administrador Juan del conjunto de administradores.\n",
    "* Añade a Marcos como un nuevo administrador, pero no lo borres del conjunto de usuarios.\n",
    "* Muestra todos los usuarios por pantalla de forma dinámica, además debes indicar cada usuario es administrador o no.\n",
    "\n",
    "*Notas: Los conjuntos se pueden recorrer dinámicamente utilizando el bucle for de forma similar a una lista. También cuentan con un método llamado **.discard(elemento)** que sirve para borrar un elemento.* "
   ]
  },
  {
   "cell_type": "code",
   "execution_count": 66,
   "metadata": {},
   "outputs": [
    {
     "name": "stdout",
     "output_type": "stream",
     "text": [
      "{'Marta'}\n",
      "{'Marta', 'Marcos'}\n",
      "Marcos\n",
      "Marta es administradora\n",
      "Elvira\n",
      "Juan\n",
      "David\n"
     ]
    }
   ],
   "source": [
    "# Completa el ejercicio aquí\n",
    "usuarios = {\"Marta\", \"David\", \"Elvira\", \"Juan\", \"Marcos\"}\n",
    "administradores = {\"Juan\", \"Marta\"}\n",
    "\n",
    "administradores.discard(\"Juan\")\n",
    "print(administradores)\n",
    "\n",
    "administradores.add(\"Marcos\")\n",
    "print(administradores)\n",
    "\n",
    "for i in usuarios:\n",
    "    if i == \"Marta\":\n",
    "        print(\"Marta es administradora\")\n",
    "        if i == \"Marcos\":\n",
    "            print(\"Marcos es administrador\")\n",
    "    else: \n",
    "        print(i)"
   ]
  },
  {
   "cell_type": "markdown",
   "metadata": {},
   "source": [
    "**8) Realizar un programa basado en un videojuego que tiene determinados jugadores con características a nivel 2 de forma predeterminada. Se deben cumplir las siguientes condiciones:**\n",
    "* El caballero tiene el doble de vida y defensa que un guerrero.\n",
    "* El guerrero tiene el doble de ataque y alcance que un caballero.\n",
    "* El arquero tiene la misma vida y ataque que un guerrero, pero la mitad de su defensa y el doble de su alcance.\n",
    "* Muestra como quedan las propiedades de los tres personajes."
   ]
  },
  {
   "cell_type": "code",
   "execution_count": 77,
   "metadata": {},
   "outputs": [
    {
     "name": "stdout",
     "output_type": "stream",
     "text": [
      "Caballero {'vida': 4, 'ataque': 2, 'defensa': 4, 'alcance': 2}\n",
      "Guerrero {'vida': 2, 'ataque': 4, 'defensa': 2, 'alcance': 4}\n",
      "Arquero {'vida': 4, 'ataque': 2, 'defensa': 2, 'alcance': 4}\n"
     ]
    }
   ],
   "source": [
    "caballero = { 'vida':2, 'ataque':2, 'defensa': 2, 'alcance':2 }\n",
    "guerrero  = { 'vida':2, 'ataque':2, 'defensa': 2, 'alcance':2 }\n",
    "arquero   = { 'vida':2, 'ataque':2, 'defensa': 2, 'alcance':2 }\n",
    "\n",
    "# Completa el ejercicio aquí\n",
    "caballero[\"vida\"] = guerrero[\"vida\"]*2\n",
    "caballero[\"defensa\"] = guerrero[\"defensa\"]*2\n",
    "print(\"Caballero\", caballero)\n",
    "\n",
    "guerrero[\"ataque\"] = caballero[\"ataque\"]*2\n",
    "guerrero[\"alcance\"] = caballero[\"alcance\"]*2\n",
    "print(\"Guerrero\", guerrero)\n",
    "\n",
    "arquero[\"vida\"] = caballero[\"vida\"]\n",
    "arquero[\"ataque\"] = caballero[\"ataque\"]\n",
    "arquero[\"defensa\"] = int(caballero[\"defensa\"]/2)\n",
    "arquero[\"alcance\"] = caballero[\"alcance\"]*2\n",
    "print(\"Arquero\", arquero)"
   ]
  },
  {
   "cell_type": "code",
   "execution_count": null,
   "metadata": {},
   "outputs": [],
   "source": []
  }
 ],
 "metadata": {
  "anaconda-cloud": {},
  "kernelspec": {
   "display_name": "Python 3",
   "language": "python",
   "name": "python3"
  },
  "language_info": {
   "codemirror_mode": {
    "name": "ipython",
    "version": 3
   },
   "file_extension": ".py",
   "mimetype": "text/x-python",
   "name": "python",
   "nbconvert_exporter": "python",
   "pygments_lexer": "ipython3",
   "version": "3.7.6"
  }
 },
 "nbformat": 4,
 "nbformat_minor": 1
}
