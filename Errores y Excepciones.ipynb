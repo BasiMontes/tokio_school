{
 "cells": [
  {
   "cell_type": "markdown",
   "metadata": {},
   "source": [
    "# Ejercicios Modulo 4. Unidad 3. Errores y Excepciones"
   ]
  },
  {
   "cell_type": "markdown",
   "metadata": {},
   "source": [
    "**1) Localiza el error en el siguiente bloque de código. Crea una excepción para evitar que el programa se bloquee y además explica en un mensaje al usuario la causa y/o solución:**"
   ]
  },
  {
   "cell_type": "code",
   "execution_count": 10,
   "metadata": {},
   "outputs": [
    {
     "name": "stdout",
     "output_type": "stream",
     "text": [
      "Ha ocurrido un error, no se puede dividir entre 0\n"
     ]
    }
   ],
   "source": [
    "# Completa el ejercicio aquí\n",
    "\n",
    "###Resultado = 10/0\n",
    "\n",
    "try:\n",
    "    num1 = 10\n",
    "    num2 = 0\n",
    "    print(\"{}/{}={}\".format(num1, num2, num1/num2))\n",
    "except:\n",
    "    print(\"Ha ocurrido un error, no se puede dividir entre 0\")"
   ]
  },
  {
   "cell_type": "markdown",
   "metadata": {},
   "source": [
    "**2) Localiza el error en el siguiente bloque de código.  Crea una excepción para evitar que el programa se bloquee y además explica en un mensaje al usuario la causa y/o solución:**"
   ]
  },
  {
   "cell_type": "code",
   "execution_count": 11,
   "metadata": {},
   "outputs": [
    {
     "name": "stdout",
     "output_type": "stream",
     "text": [
      "1\n",
      "2\n",
      "3\n",
      "4\n",
      "5\n",
      "El ítem de la lista está fuera de rango\n"
     ]
    }
   ],
   "source": [
    "# Completa el ejercicio aquí\n",
    "\n",
    "try:\n",
    "    lista = [1, 2, 3, 4, 5]\n",
    "    for i in lista:\n",
    "        print(i)\n",
    "    lista[10]\n",
    "except:\n",
    "    print(\"El ítem de la lista está fuera de rango\")"
   ]
  },
  {
   "cell_type": "markdown",
   "metadata": {},
   "source": [
    "**3) Localiza el error en el siguiente bloque de código.  Crea una excepción para evitar que el programa se bloquee y además explica en un mensaje al usuario la causa y/o solución:**"
   ]
  },
  {
   "cell_type": "code",
   "execution_count": 15,
   "metadata": {},
   "outputs": [
    {
     "name": "stdout",
     "output_type": "stream",
     "text": [
      "rojo\n",
      "verde\n",
      "negro\n",
      "La clave no se encuentra en el diccionario\n"
     ]
    }
   ],
   "source": [
    "# Completa el ejercicio aquí\n",
    "\n",
    "try:\n",
    "    colores = {'rojo':'red', 'verde':'green', 'negro':'black'} \n",
    "    for i in colores:\n",
    "        print(i)\n",
    "    colores['blanco']\n",
    "except:\n",
    "    print(\"La clave no se encuentra en el diccionario\")"
   ]
  },
  {
   "cell_type": "markdown",
   "metadata": {},
   "source": [
    "**4) Localiza el error en el siguiente bloque de código.  Crea una excepción para evitar que el programa se bloquee y además explica en un mensaje al usuario la causa y/o solución:**"
   ]
  },
  {
   "cell_type": "code",
   "execution_count": 20,
   "metadata": {},
   "outputs": [
    {
     "name": "stdout",
     "output_type": "stream",
     "text": [
      "No se puede sumar un string con un número\n"
     ]
    }
   ],
   "source": [
    "# Completa el ejercicio aquí\n",
    "\n",
    "### Resultado = \"20\" + 15\n",
    "\n",
    "try:\n",
    "    num1 = \"20\"\n",
    "    num2 = 15\n",
    "    print(\"{} + {} = {}\".format(num1, num2, num1+num2))\n",
    "except:\n",
    "    print(\"No se puede sumar un string con un número\")"
   ]
  },
  {
   "cell_type": "markdown",
   "metadata": {},
   "source": [
    "**5) Realiza una función llamada agregar_una_vez() que reciba una lista y un elemento. La función debe añadir el elemento al final de la lista con la condición de no repetir ningún elemento. Además si este elemento ya se encuentra en la lista se debe invocar un error de tipo ValueError que debes capturar y mostrar este mensaje en su lugar:**\n",
    "\n",
    "```\n",
    "  Error: Imposible añadir elementos duplicados => [elemento].\n",
    "```\n",
    "**Prueba a agregar los elementos 10, -2, \"Hola\" a la lista de elementos con la función una vez la has creado y luego muestra su contenido.**\n",
    "\n",
    "*Pista: Puedes utilizar la sintaxis: elemento in lista*"
   ]
  },
  {
   "cell_type": "code",
   "execution_count": 14,
   "metadata": {},
   "outputs": [
    {
     "name": "stdout",
     "output_type": "stream",
     "text": [
      "Error: Imposible añadir elementos duplicados => 10\n",
      "Error: Imposible añadir elementos duplicados => -2\n",
      "Error: Imposible añadir elementos duplicados => Hola\n",
      "[1, 5, -2, 10, 'Hola']\n"
     ]
    }
   ],
   "source": [
    "# Completa el ejercicio aquí\n",
    "\n",
    "def agregar_una_vez(lista, elemento):\n",
    "    try:\n",
    "        if elemento in lista:\n",
    "            raise ValueError\n",
    "        else:\n",
    "            lista.append(elemento)\n",
    "    except ValueError:\n",
    "        print(\"Error: Imposible añadir elementos duplicados =>\", elemento)\n",
    "\n",
    "agregar_una_vez(elementos, 10)\n",
    "agregar_una_vez(elementos, -2)\n",
    "agregar_una_vez(elementos, \"Hola\")\n",
    "\n",
    "print(elementos)"
   ]
  },
  {
   "cell_type": "markdown",
   "metadata": {},
   "source": [
    "**6) Busca en la documentación otra excepción que no se haya utilizado hasta ahora y realiza los siguientes pasos:**\n",
    "* Provoca el error en un código de ejemplo. \n",
    "* Una vez que las hayas provocado, contrólalas con try-except\n",
    "* Muestra al usuario la información por defecto que proporcione la excepción. Pista: as\n",
    "* Personaliza el mensaje que se le proporciona al usuario utilizando todo lo anterior"
   ]
  },
  {
   "cell_type": "code",
   "execution_count": 23,
   "metadata": {},
   "outputs": [
    {
     "name": "stdout",
     "output_type": "stream",
     "text": [
      "['Peras', 'Manzanzas', 'Plátanos', 'Uvas', 'Melón', 'Piña', 'Sandía']\n",
      "Elimino el último elemento, ya lo he comprado Sandía\n",
      "['Peras', 'Manzanzas', 'Plátanos', 'Uvas', 'Melón', 'Piña']\n",
      "Elimino el último elemento, ya lo he comprado Piña\n",
      "['Peras', 'Manzanzas', 'Plátanos', 'Uvas', 'Melón']\n",
      "Elimino el último elemento, ya lo he comprado Melón\n",
      "['Peras', 'Manzanzas', 'Plátanos', 'Uvas']\n",
      "Elimino el último elemento, ya lo he comprado Uvas\n",
      "['Peras', 'Manzanzas', 'Plátanos']\n",
      "Elimino el último elemento, ya lo he comprado Plátanos\n",
      "['Peras', 'Manzanzas']\n",
      "Elimino el último elemento, ya lo he comprado Manzanzas\n",
      "['Peras']\n",
      "Elimino el último elemento, ya lo he comprado Peras\n",
      "Error al intentar eliminar una fruta de la lista \n",
      "La lista debe contener al menos 1 elemento\n"
     ]
    }
   ],
   "source": [
    "try:\n",
    "    frutas = [\"Peras\", \"Manzanzas\", \"Plátanos\", \"Uvas\", \"Melón\", \"Piña\", \"Sandía\"]\n",
    "    print(frutas)\n",
    "    while True:\n",
    "        print('Elimino el último elemento, ya lo he comprado', frutas[-1])\n",
    "        frutas.pop()\n",
    "        # La lista de frutas no puede tener menos de dos elementos\n",
    "        assert len(frutas) > 0\n",
    "        print(frutas)\n",
    "\n",
    "# Mientras tenga más de dos elementos, es válida\n",
    "except AssertionError:\n",
    "    print('Error al intentar eliminar una fruta de la lista ')  # mensaje de assert\n",
    "    print('La lista debe contener al menos 1 elemento')"
   ]
  },
  {
   "cell_type": "code",
   "execution_count": null,
   "metadata": {},
   "outputs": [],
   "source": []
  }
 ],
 "metadata": {
  "anaconda-cloud": {},
  "kernelspec": {
   "display_name": "Python 3",
   "language": "python",
   "name": "python3"
  },
  "language_info": {
   "codemirror_mode": {
    "name": "ipython",
    "version": 3
   },
   "file_extension": ".py",
   "mimetype": "text/x-python",
   "name": "python",
   "nbconvert_exporter": "python",
   "pygments_lexer": "ipython3",
   "version": "3.7.6"
  }
 },
 "nbformat": 4,
 "nbformat_minor": 1
}
