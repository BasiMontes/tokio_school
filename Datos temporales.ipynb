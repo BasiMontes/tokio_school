{
 "cells": [
  {
   "cell_type": "markdown",
   "metadata": {},
   "source": [
    "# Ejercicios Modulo 4. Unidad 4. Datos temporales"
   ]
  },
  {
   "cell_type": "markdown",
   "metadata": {},
   "source": [
    "**1) Dadas las dos siguientes fechas, que corresponden a las fechas de nacimiento de dos hermanos (en la zona horaria de Europe/Madrid), indica cual es la diferencia entre ellos en días, horas, minutos y segundos**"
   ]
  },
  {
   "cell_type": "code",
   "execution_count": 1,
   "metadata": {},
   "outputs": [
    {
     "name": "stdout",
     "output_type": "stream",
     "text": [
      "La diferencia de edad entre 1992-06-25 18:30:00 y 1985-10-20 17:55:00 es de 2440 days, 0:35:00\n"
     ]
    }
   ],
   "source": [
    "# Completa el ejercicio aquí\n",
    "from datetime import datetime\n",
    "import pytz\n",
    "\n",
    "hijo1 = datetime(1985, 10, 20, 17, 55)\n",
    "hijo2 = datetime(1992, 6, 25, 18, 30)\n",
    "\n",
    "# Completa el ejercicio aquí\n",
    "\n",
    "diferencia_edad = hijo2 - hijo1\n",
    "print(\"La diferencia de edad entre\", hijo2, \"y\", hijo1, \"es de\", diferencia_edad)"
   ]
  },
  {
   "cell_type": "markdown",
   "metadata": {},
   "source": [
    "**2) Crea una función que se llame formato_fecha() que reciba por parámetro una fecha del tipo datetime y nos devuelva el siguiente formato: \"20 de Abril del 2020\".**\n",
    "\n",
    "**En muchas ocasiones nuestros sistemas estan configurados de forma predeterminada en inglés, y no se puede cambiar la localidad a español. Por lo tanto, tenemos que aprender a seleccionar y mostrar los meses en español a pesar de que nuestro sistema se encuentre en inglés o en otro idioma. Crear una tupla para almacenar el listado de meses en español para poder seleccionar el nombre del mes adecuado en función a una fecha que le proporcionemos al programa. Queda prohibído utilizar metodos como locale, setlocale o strftime.**\n",
    "\n",
    "**Prueba la función enviándole una fecha predefinida por ti y la fecha actual (now)**"
   ]
  },
  {
   "cell_type": "code",
   "execution_count": 57,
   "metadata": {},
   "outputs": [
    {
     "name": "stdout",
     "output_type": "stream",
     "text": [
      "7 de Diciembre del 2020\n"
     ]
    }
   ],
   "source": [
    "# Completa el ejercicio aquí\n",
    "\n",
    "from datetime import datetime\n",
    "\n",
    "def formato_fecha(date):\n",
    "    months = (\"Enero\", \"Febrero\", \"Marzo\", \"Abril\", \"Mayo\", \"Junio\", \"Julio\", \"Agosto\", \"Septiembre\", \"Octubre\", \"Noviembre\", \"Diciembre\")\n",
    "    days = (1,2,3,4,5,6,7,8,9,10,11,12,13,14,15,16,17,18,19,20,21,22,23,24,25,26,27,28,29,30)\n",
    "    dia = date.day\n",
    "    mes = months[date.month -1]\n",
    "    day = days[date.day - 18]\n",
    "    month = months[date.month - 9]\n",
    "    year = date.year\n",
    "    message = \"{} de {} del {}\".format(day, month, year)\n",
    "    message2 = \"{} de {} del {}\".format(dia, mes, year)\n",
    "    \n",
    "    return message\n",
    "    #return message2 Es la fecha actual\n",
    "\n",
    "print(formato_fecha(now))"
   ]
  },
  {
   "cell_type": "markdown",
   "metadata": {},
   "source": [
    "**3) Utilizando strftime y formatea la fecha actual para que salga con el siguiente formato (sin los puntos):**\n",
    "* Día: 20\n",
    "* Mes: 04\n",
    "* Año: 2020\n",
    "* Hora: 16\n",
    "* Minutos: 19\n",
    "* Segundos (y milisegundos): 08.879057"
   ]
  },
  {
   "cell_type": "code",
   "execution_count": 70,
   "metadata": {
    "scrolled": true
   },
   "outputs": [
    {
     "name": "stdout",
     "output_type": "stream",
     "text": [
      "12:20 07/Dec/2020\n",
      "Día 07\n",
      "Mes 12\n",
      "Año 2020\n",
      "Hora 12\n",
      "Minutos 20\n",
      "Segundos 49\n",
      "Milisegundos 098935\n"
     ]
    }
   ],
   "source": [
    "# Completa el ejercicio aquí\n",
    "\n",
    "from datetime import datetime\n",
    "fecha = datetime.now()\n",
    "print(fecha.strftime(\"%H:%M %d/%b/%Y\"))\n",
    "print(fecha.strftime(\"Día %d\"))\n",
    "print(fecha.strftime(\"Mes %m\"))\n",
    "print(fecha.strftime(\"Año %Y\"))\n",
    "print(fecha.strftime(\"Hora %H\"))\n",
    "print(fecha.strftime(\"Minutos %M\"))\n",
    "print(fecha.strftime(\"Segundos %S\"))\n",
    "print(fecha.strftime(\"Milisegundos %f\"))"
   ]
  },
  {
   "cell_type": "code",
   "execution_count": null,
   "metadata": {},
   "outputs": [],
   "source": []
  }
 ],
 "metadata": {
  "anaconda-cloud": {},
  "kernelspec": {
   "display_name": "Python 3",
   "language": "python",
   "name": "python3"
  },
  "language_info": {
   "codemirror_mode": {
    "name": "ipython",
    "version": 3
   },
   "file_extension": ".py",
   "mimetype": "text/x-python",
   "name": "python",
   "nbconvert_exporter": "python",
   "pygments_lexer": "ipython3",
   "version": "3.7.6"
  }
 },
 "nbformat": 4,
 "nbformat_minor": 1
}
