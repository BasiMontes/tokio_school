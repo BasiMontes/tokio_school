{
 "cells": [
  {
   "cell_type": "markdown",
   "metadata": {},
   "source": [
    "# Ejercicios Modulo 5. Excel y CSV\n"
   ]
  },
  {
   "cell_type": "markdown",
   "metadata": {},
   "source": [
    "## EXCEL"
   ]
  },
  {
   "cell_type": "markdown",
   "metadata": {},
   "source": [
    "**1) Ejercicio de manejo de Excel en base al fichero 02_Excel_data.xlsx:**\n",
    "* Abre el fichero Excel\n",
    "* Lista las hojas que hay\n",
    "* Crea una nueva hoja que se llame olimpiadas entre ventas y otros\n",
    "* Vuelve a listar las hojas que hay\n",
    "* Guarda los cambios y comprueba en el excel si se han efectuado"
   ]
  },
  {
   "cell_type": "code",
   "execution_count": 1,
   "metadata": {},
   "outputs": [
    {
     "name": "stdout",
     "output_type": "stream",
     "text": [
      "Nombres de las hojas del Excel: \n",
      "['address', 'ventas', 'olimpiadas', 'Otros']\n",
      "\n",
      "Nombres de hojas (Bucle FOR): \n",
      "address\n",
      "ventas\n",
      "olimpiadas\n",
      "Otros\n",
      "Otros1\n"
     ]
    }
   ],
   "source": [
    "# Completa el ejercicio aquí\n",
    "import openpyxl\n",
    "\n",
    "excel1 = openpyxl.load_workbook(\"02_Excel_data.xlsx\")\n",
    "\n",
    "\n",
    "print(\"Nombres de las hojas del Excel: \")\n",
    "print(excel1.sheetnames) #Imprime los nombres de las hojas con Sheetnames\n",
    "\n",
    "hoja_nueva = excel1.create_sheet(\"Otros\")\n",
    "\n",
    "print(\"\\nNombres de hojas (Bucle FOR): \")\n",
    "for sheet in excel1:\n",
    "    print(sheet.title) #Imprime los nombres de las hojas con un bucle FOR y title"
   ]
  },
  {
   "cell_type": "markdown",
   "metadata": {},
   "source": [
    "**2) Continuemos con Excel**\n",
    "* Crea una lista que contenga los siguientes datos olímpicos (nombre del país y medallas de oro, plata y bronce):\n",
    "```\n",
    "USA, 46, 12, 5\n",
    "China, 38, 20, 7\n",
    "UK, 29, 7, 7\n",
    "Russia, 22, 10, 9\n",
    "South Korea, 13, 3, 2\n",
    "Germany, 11, 7, 4\n",
    "```\n",
    "* Añadir esa lista a la hoja de olimpiadas que creamos en el ejercicio anterior\n",
    "* Listar por filas y columnas el contenido\n",
    "* Mover todo el rango de datos una fila hacia abajo (buscar en la documentación como mover rangos)\n",
    "* Añadir unas cabeceras en la primera línea (que acaba de quedar libre) que sean \"Pais\", \"Oros\", \"Platas\", \"Bronces\"\n",
    "* Guarda los cambios y comprueba en el excel si se han efectuado"
   ]
  },
  {
   "cell_type": "code",
   "execution_count": 3,
   "metadata": {},
   "outputs": [
    {
     "name": "stdout",
     "output_type": "stream",
     "text": [
      "Pais\n",
      "Oros\n",
      "Platas\n",
      "Bronces\n",
      "USA\n",
      "46\n",
      "12\n",
      "5\n",
      "China\n",
      "38\n",
      "20\n",
      "7\n",
      "UK\n",
      "29\n",
      "7\n",
      "7\n",
      "Russia\n",
      "22\n",
      "10\n",
      "9\n",
      "South Korea\n",
      "13\n",
      "3\n",
      "2\n"
     ]
    }
   ],
   "source": [
    "# Completa el ejercicio aquí\n",
    "\n",
    "hoja_olimpiadas = excel1[\"olimpiadas\"]\n",
    "\n",
    "hoja_olimpiadas.append([\"USA\", 46, 12, 5])\n",
    "hoja_olimpiadas.append((\"China\", 38, 20, 7))\n",
    "hoja_olimpiadas.append([\"UK\", 29, 7, 7])\n",
    "hoja_olimpiadas.append((\"Russia\", 22, 10, 9))\n",
    "hoja_olimpiadas.append([\"South Korea\", 13, 3, 2])\n",
    "hoja_olimpiadas.append((\"Germany\", 11, 7, 4))\n",
    "\n",
    "multiple_cells = hoja_olimpiadas[\"A1\":\"D6\"]\n",
    "for row in multiple_cells:\n",
    "    for cell in row:\n",
    "        print(cell.value)\n",
    "    #print(\"---Fin de la fila---\")\n",
    "\n",
    "hoja_olimpiadas.move_range(\"A1:D6\", rows = 1, cols = 0)\n",
    "\n",
    "hoja_olimpiadas.append([\"Pais\", \"Oros\", \"Platas\", \"Bronces\"])\n",
    "hoja_olimpiadas.move_range(\"A7:D7\", rows = -6, cols = 0)\n",
    "excel1.save(\"02_Excel_data.xlsx\")"
   ]
  },
  {
   "cell_type": "markdown",
   "metadata": {},
   "source": [
    "**3) Continuemos con Excel, centrandonos en la parte de la librería openpyxl.styles (la cual proporciona estilo a nuestras hojas de Excel)**\n",
    "* Poner las cabeceras que acabamos de añadir en negrita (bold)\n",
    "* Guarda los cambios y comprueba en el excel si se han efectuado\n",
    "\n",
    "Pista: Aunque hay varias formas de hacerlo, lo más común es definir el estilo que deseas (negrita) y luego aplicárselo a todas las celdas que quieras (iterar por la primera fila de nuestra hoja)\n",
    "\n",
    "Doc: https://openpyxl.readthedocs.io/en/stable/styles.html"
   ]
  },
  {
   "cell_type": "code",
   "execution_count": 4,
   "metadata": {},
   "outputs": [],
   "source": [
    "# Completa el ejercicio aquí\n",
    "\n",
    "from openpyxl.styles import Font, Color\n",
    "\n",
    "a1 = hoja_olimpiadas[\"A1\"]\n",
    "b1 = hoja_olimpiadas[\"B1\"]\n",
    "c1 = hoja_olimpiadas[\"C1\"]\n",
    "d1 = hoja_olimpiadas[\"D1\"]\n",
    "ft = Font(bold=True)\n",
    "a1.font = ft\n",
    "b1.font = ft\n",
    "c1.font = ft\n",
    "d1.font = ft\n",
    "\n",
    "excel1.save(\"02_Excel_data.xlsx\")"
   ]
  },
  {
   "cell_type": "markdown",
   "metadata": {},
   "source": [
    "**4) Continuamos con Excel. Crea una nueva columna que sea el sumatorio de todas las medallas conseguidas por cada uno de los paises**"
   ]
  },
  {
   "cell_type": "code",
   "execution_count": 63,
   "metadata": {},
   "outputs": [],
   "source": [
    "# Completa el ejercicio aquí\n",
    "\n",
    "hoja_olimpiadas.append([\"Sumatorio medallas\"])\n",
    "hoja_olimpiadas.move_range(\"E7\", rows = -6, cols = 4)\n",
    "\n",
    "hoja_olimpiadas['E2'] = \"=SUM(B2:D2)\"\n",
    "hoja_olimpiadas['E3'] = \"=SUM(B3:D3)\"\n",
    "hoja_olimpiadas['E4'] = \"=SUM(B4:D4)\"\n",
    "hoja_olimpiadas['E5'] = \"=SUM(B5:D5)\"\n",
    "hoja_olimpiadas['E6'] = \"=SUM(B6:D6)\"\n",
    "hoja_olimpiadas['E7'] = \"=SUM(B7:D7)\"\n",
    "\n",
    "excel1.save(\"02_Excel_data.xlsx\")"
   ]
  },
  {
   "cell_type": "markdown",
   "metadata": {},
   "source": [
    "**5) Continuamos con Excel. Crear un gráfico de barras (openpyxl.chart.BarChart()) lo más parecido al que se muestra en la imagen:**\n",
    "\n",
    "<img src=\"./02_Excel_data.png\"  />"
   ]
  },
  {
   "cell_type": "code",
   "execution_count": 5,
   "metadata": {},
   "outputs": [
    {
     "name": "stdout",
     "output_type": "stream",
     "text": [
      "GRAFICA GENERADA\n"
     ]
    }
   ],
   "source": [
    "import openpyxl \n",
    "\n",
    "from openpyxl.chart import BarChart, Series, Reference\n",
    "\n",
    "\n",
    "# Abrir un archivo Excel (workbook)\n",
    "wb = openpyxl.load_workbook(\"02_Excel_data.xlsx\")\n",
    "\n",
    "\n",
    "# Definimos la hoja tres (hoja de olimpiadas)\n",
    "hoja_tres = wb[\"olimpiadas\"]\n",
    "\n",
    "\n",
    "data = Reference(hoja_tres, min_col=5, min_row=2, max_col=5, max_row=7)\n",
    "categs = Reference(hoja_tres, min_col=1, min_row=2, max_col=1, max_row=7)\n",
    "\n",
    "\n",
    "# Completa el ejercicio aquí\n",
    "\n",
    "\n",
    "chart = BarChart()\n",
    "chart.add_data(data=data)\n",
    "chart.set_categories(categs)\n",
    "\n",
    "\n",
    "chart.legend = None\n",
    "chart.y_axis.majorGridlines = None\n",
    "chart.varyColors = True\n",
    "chart.title = \"Medallas Olimpicas\"\n",
    "\n",
    "hoja_tres.add_chart(chart, \"B9\")\n",
    "\n",
    "\n",
    "# Guardar cambios\n",
    "\n",
    "wb.save(\"02_Excel_data.xlsx\")\n",
    "\n",
    "print(\"GRAFICA GENERADA\")"
   ]
  },
  {
   "cell_type": "markdown",
   "metadata": {},
   "source": [
    "## CSV"
   ]
  },
  {
   "cell_type": "markdown",
   "metadata": {},
   "source": [
    "**Vamos a realizar un ejercicio práctico de minería de datos, donde limpiaremos y filtraremos información con un csv que contiene datos de vehículos**\n",
    "\n",
    "Trabajaremos con el fichero **02_CSV_data.csv**"
   ]
  },
  {
   "cell_type": "markdown",
   "metadata": {},
   "source": [
    "**6) Observa los datos del csv y realiza las siguientes tareas:**\n",
    "\n",
    "* Tenemos 9 columnas, las 8 primeras contienen datos numéricos con los cuales podemos trabajar, crea una lista para cada una de estas columnas (mpg, cylinders, etc.). No es necesario crear lista para name\n",
    "* Recorre los datos del csv adecuadamente y almacena los datos de cada columna en cada una de las listas que has creado anteriormente.\n",
    "* Comprobar que se haya guardado en las listas la información correspondiente (con prints)"
   ]
  },
  {
   "cell_type": "code",
   "execution_count": 1,
   "metadata": {},
   "outputs": [
    {
     "name": "stdout",
     "output_type": "stream",
     "text": [
      "['31', '4', '119', '82', '2720', '19.4', '82', '1', 'chevy s-10']\n"
     ]
    }
   ],
   "source": [
    "# Completa el ejercicio aquí\n",
    "\n",
    "import csv\n",
    "\n",
    "mpg = []\n",
    "cylinders = []\n",
    "displacement = []\n",
    "horsepower = []\n",
    "weight = []\n",
    "acceleration = []\n",
    "year = []\n",
    "origin = []\n",
    "name = []\n",
    "\n",
    "with open(\"02_CSV_data.csv\", \"r\") as f:\n",
    "    reader = csv.reader(f)\n",
    "    for i in reader:\n",
    "        mpg.append(i[0])\n",
    "        cylinders.append(i[1])\n",
    "        displacement.append(i[2])\n",
    "        horsepower.append(i[3])\n",
    "        weight.append(i[4])\n",
    "        acceleration.append(i[5])\n",
    "        year.append(i[6])\n",
    "        origin.append(i[7])\n",
    "        name.append(i[8])\n",
    "        \n",
    "    print(i)"
   ]
  },
  {
   "cell_type": "markdown",
   "metadata": {},
   "source": [
    "**7) Vamos a trabajar con los números de nuestras listas por lo que nos sobra el primer elemento de cada lista, el cual contiene el nombre de cada una de las columnas.**\n",
    "\n",
    "* Elimina el primer elemento de cada una de las listas\n",
    "* Observa que los datos de nuestras listas son strings, conviértelos a float. Pista: list y map te pueden ayudar.\n",
    "* Comprobar que se haya eliminado el primer elemento y que los datos son numéricos (con prints)"
   ]
  },
  {
   "cell_type": "code",
   "execution_count": 2,
   "metadata": {},
   "outputs": [
    {
     "name": "stdout",
     "output_type": "stream",
     "text": [
      "18.0\n"
     ]
    }
   ],
   "source": [
    "# Completa el ejercicio aquí\n",
    "\n",
    "import csv\n",
    "\n",
    "del mpg[0] \n",
    "del cylinders[0]\n",
    "del displacement[0]\n",
    "del horsepower[0]\n",
    "del weight[0]\n",
    "del acceleration[0]\n",
    "del year[0]\n",
    "del origin[0]\n",
    "del name[0]\n",
    "\n",
    "mpg = list(map(float, mpg))\n",
    "cylinders = list(map(float, cylinders))\n",
    "displacement = list(map(float, displacement))\n",
    "horsepower = list(map(float, horsepower))\n",
    "weight = list(map(float, weight))\n",
    "acceleration = list(map(float, acceleration))\n",
    "year = list(map(float, year))\n",
    "origin = list(map(float, origin))\n",
    "\n",
    "print(mpg[0])"
   ]
  },
  {
   "cell_type": "markdown",
   "metadata": {},
   "source": [
    "**8) Para terminar vamos a mostrar algunos resultados. Para ello utilizaremos la librería statistics.**\n",
    "\n",
    "* Muestra para cada una de las listas, cuantas observaciones tiene (cuántos datos tiene).\n",
    "* Mostrar el mínimo y el máximo de cada lista\n",
    "* Mostrar la media, mediana y desviación estándar de cada lista (utilizando statistics)"
   ]
  },
  {
   "cell_type": "code",
   "execution_count": 8,
   "metadata": {},
   "outputs": [
    {
     "name": "stdout",
     "output_type": "stream",
     "text": [
      "Count\n",
      "397\n",
      "397\n",
      "397\n",
      "397\n",
      "397\n",
      "397\n",
      "397\n",
      "397\n",
      "##########################\n",
      "MIN\n",
      "9.0\n",
      "3.0\n",
      "68.0\n",
      "46.0\n",
      "1613.0\n",
      "8.0\n",
      "70.0\n",
      "1.0\n",
      "##########################\n",
      "MAX\n",
      "46.6\n",
      "8.0\n",
      "455.0\n",
      "230.0\n",
      "5140.0\n",
      "24.8\n",
      "82.0\n",
      "3.0\n",
      "##########################\n",
      "MEAN\n",
      "23.51586901763224\n",
      "5.458438287153652\n",
      "193.53274559193954\n",
      "104.28715365239294\n",
      "2970.2619647355164\n",
      "15.55566750629723\n",
      "75.99496221662469\n",
      "1.5743073047858942\n",
      "##########################\n",
      "MEDIAN\n",
      "23.0\n",
      "4.0\n",
      "146.0\n",
      "92.0\n",
      "2800.0\n",
      "15.5\n",
      "76.0\n",
      "1.0\n",
      "##########################\n",
      "STDEV\n",
      "7.825803928946562\n",
      "1.7015769807918462\n",
      "104.37958329992955\n",
      "38.28149540065238\n",
      "847.9041194897246\n",
      "2.749995292976151\n",
      "3.690004901461682\n",
      "0.8025494957970388\n"
     ]
    }
   ],
   "source": [
    "# Completa el ejercicio aquí\n",
    "\n",
    "import csv\n",
    "import statistics\n",
    "\n",
    "print(\"Count\")\n",
    "print(len(mpg))\n",
    "print(len(cylinders))\n",
    "print(len(displacement))\n",
    "print(len(horsepower))\n",
    "print(len(weight))\n",
    "print(len(acceleration))\n",
    "print(len(year))\n",
    "print(len(origin))\n",
    "\n",
    "print(\"##########################\")\n",
    "print(\"MIN\")\n",
    "print(min(mpg))\n",
    "print(min(cylinders))\n",
    "print(min(displacement))\n",
    "print(min(horsepower))\n",
    "print(min(weight))\n",
    "print(min(acceleration))\n",
    "print(min(year))\n",
    "print(min(origin))\n",
    "\n",
    "print(\"##########################\")\n",
    "print(\"MAX\")\n",
    "print(max(mpg))\n",
    "print(max(cylinders))\n",
    "print(max(displacement))\n",
    "print(max(horsepower))\n",
    "print(max(weight))\n",
    "print(max(acceleration))\n",
    "print(max(year))\n",
    "print(max(origin))\n",
    "\n",
    "print(\"##########################\")\n",
    "print(\"MEAN\")\n",
    "print(statistics.mean(mpg))\n",
    "print(statistics.mean(cylinders))\n",
    "print(statistics.mean(displacement))\n",
    "print(statistics.mean(horsepower))\n",
    "print(statistics.mean(weight))\n",
    "print(statistics.mean(acceleration))\n",
    "print(statistics.mean(year))\n",
    "print(statistics.mean(origin))\n",
    "\n",
    "print(\"##########################\")\n",
    "print(\"MEDIAN\")\n",
    "print(statistics.median(mpg))\n",
    "print(statistics.median(cylinders))\n",
    "print(statistics.median(displacement))\n",
    "print(statistics.median(horsepower))\n",
    "print(statistics.median(weight))\n",
    "print(statistics.median(acceleration))\n",
    "print(statistics.median(year))\n",
    "print(statistics.median(origin))\n",
    "\n",
    "print(\"##########################\")\n",
    "print(\"STDEV\")\n",
    "print(statistics.stdev(mpg))\n",
    "print(statistics.stdev(cylinders))\n",
    "print(statistics.stdev(displacement))\n",
    "print(statistics.stdev(horsepower))\n",
    "print(statistics.stdev(weight))\n",
    "print(statistics.stdev(acceleration))\n",
    "print(statistics.stdev(year))\n",
    "print(statistics.stdev(origin))\n"
   ]
  },
  {
   "cell_type": "code",
   "execution_count": null,
   "metadata": {},
   "outputs": [],
   "source": []
  }
 ],
 "metadata": {
  "anaconda-cloud": {},
  "kernelspec": {
   "display_name": "Python 3",
   "language": "python",
   "name": "python3"
  },
  "language_info": {
   "codemirror_mode": {
    "name": "ipython",
    "version": 3
   },
   "file_extension": ".py",
   "mimetype": "text/x-python",
   "name": "python",
   "nbconvert_exporter": "python",
   "pygments_lexer": "ipython3",
   "version": "3.7.6"
  }
 },
 "nbformat": 4,
 "nbformat_minor": 1
}
