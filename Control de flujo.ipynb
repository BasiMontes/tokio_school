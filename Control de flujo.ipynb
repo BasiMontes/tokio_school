{
 "cells": [
  {
   "cell_type": "markdown",
   "metadata": {},
   "source": [
    "# Ejercicios Modulo 2. Control de flujo\n"
   ]
  },
  {
   "cell_type": "markdown",
   "metadata": {},
   "source": [
    "## Ejercicios de control de flujo"
   ]
  },
  {
   "cell_type": "markdown",
   "metadata": {},
   "source": [
    "**1) Realiza un programa que lea tres números por teclado y permita evaluar lo siguiente:** \n",
    "* Si los números están en orden ascendente\n",
    "* Si los números no están en orden ascendente\n",
    "* Si hay un error debido a que el primer número introducido es 0"
   ]
  },
  {
   "cell_type": "code",
   "execution_count": 2,
   "metadata": {},
   "outputs": [
    {
     "name": "stdout",
     "output_type": "stream",
     "text": [
      "Introduzca un valor entero: 3\n",
      "Introduzca un valor entero: 2\n",
      "Introduzca un valor entero: 1\n",
      "Valores de la lista:  [3, 2, 1]\n",
      "La lista está ordenada de manera descendente\n"
     ]
    }
   ],
   "source": [
    "# Completa el ejercicio aquí\n",
    "\n",
    "lista = []\n",
    "\n",
    "for x in range(3):\n",
    "    num = int(input(\"Introduzca un valor entero: \"))\n",
    "    lista.append(num)  \n",
    "print(\"Valores de la lista: \", lista)\n",
    "\n",
    "if 0 in lista:\n",
    "    print(\"ERROR! Se tiene que introducir un número mayor que cero\")\n",
    "elif sorted(lista) == lista:\n",
    "    print(\"La lista está ordenada de manera ascendente\")\n",
    "elif sorted(lista, reverse=True) == lista:\n",
    "    print(\"La lista está ordenada de manera descendente\")"
   ]
  },
  {
   "cell_type": "markdown",
   "metadata": {},
   "source": [
    "**2) Realiza un programa que realice el sumatorio de los primeros N números, empezando en 0, y siendo N el número límite que el usuario proporciona por teclado:** \n",
    "* Ejemplo de número límite introducido por el usuario: 5\n",
    "* sumatorio = 0 + 1 + 2 + 3 + 4 (sumamos los 5 primeros números)"
   ]
  },
  {
   "cell_type": "code",
   "execution_count": 3,
   "metadata": {},
   "outputs": [
    {
     "name": "stdout",
     "output_type": "stream",
     "text": [
      "Introduzca el límite: 5\n",
      "10\n"
     ]
    }
   ],
   "source": [
    "# Completa el ejercicio aquí\n",
    "\n",
    "limite = int(input(\"Introduzca el límite: \"))\n",
    "\n",
    "suma = sum(range(0, limite))\n",
    "\n",
    "print(suma)"
   ]
  },
  {
   "cell_type": "markdown",
   "metadata": {},
   "source": [
    "**3) Realiza un programa que lea dos números por teclado y muestre el siguiente menú:** \n",
    "* Mostrar una suma de los dos números\n",
    "* Mostrar una resta de los dos números (el primero menos el segundo)\n",
    "* Mostrar una multiplicación de los dos números\n",
    "* En caso de no introducir una opción válida, el programa informará de que no es correcta."
   ]
  },
  {
   "cell_type": "code",
   "execution_count": 4,
   "metadata": {},
   "outputs": [
    {
     "name": "stdout",
     "output_type": "stream",
     "text": [
      "Introduzca un valor entero para num1: 8\n",
      "Introduzca un valor entero para num2: 4\n",
      "\n",
      "¿Qué quieres hacer?\n",
      "1) Mostrar una suma de los dos números\n",
      "2) Mostrar una resta de los dos números (el primero menos el segundo)\n",
      "3) Mostrar una multiplicación de los dos números\n",
      "\n",
      "Introduce una opción del menú: 2\n",
      "La resta de 8 - 4 es: 4\n"
     ]
    }
   ],
   "source": [
    "# Completa el ejercicio aquí\n",
    "\n",
    "num1 = int(input(\"Introduzca un valor entero para num1: \"))\n",
    "num2 = int(input(\"Introduzca un valor entero para num2: \"))\n",
    "\n",
    "print(\"\"\"\n",
    "¿Qué quieres hacer?\n",
    "1) Mostrar una suma de los dos números\n",
    "2) Mostrar una resta de los dos números (el primero menos el segundo)\n",
    "3) Mostrar una multiplicación de los dos números\n",
    "\"\"\")\n",
    "\n",
    "opcion = int(input(\"Introduce una opción del menú: \") )     \n",
    "\n",
    "if opcion == 1:\n",
    "    print(\"La suma de\", num1, \"+\", num2, \"es:\", num1 + num2)\n",
    "elif opcion == 2:\n",
    "    print(\"La resta de\", num1, \"-\", num2, \"es:\", num1 - num2)\n",
    "elif opcion == 3:\n",
    "    print(\"La multiplicación entre\" ,num1, \"*\", num2, \"es:\", num1 * num2)\n",
    "else:\n",
    "    print(\"ERROR! Tiene que escribir un número\")"
   ]
  },
  {
   "cell_type": "markdown",
   "metadata": {},
   "source": [
    "**4) Realiza un programa que lea letras y cuente con una variable contador las letras \"a\" que se introducen. Para salir del programa, introducir el carácter \".\". Al finalizar mostrar el número de veces que se ha pulsado la letra \"a\".**"
   ]
  },
  {
   "cell_type": "code",
   "execution_count": 5,
   "metadata": {},
   "outputs": [
    {
     "name": "stdout",
     "output_type": "stream",
     "text": [
      "Bienvenido al menú interactivo\n",
      "Introduce un string: banana\n",
      "\n",
      "    ¿Qué quieres hacer?\n",
      "    1) Contar el número de \"a\" en la cadena de texto\n",
      "    2) Para salir del programa, teclea \".\"\n",
      "    \n",
      "Introduce una opción del menú: 1\n",
      "La letra a está 3 veces\n",
      "Introduce un string: banana\n",
      "\n",
      "    ¿Qué quieres hacer?\n",
      "    1) Contar el número de \"a\" en la cadena de texto\n",
      "    2) Para salir del programa, teclea \".\"\n",
      "    \n",
      "Introduce una opción del menú: .\n",
      "Salimos del programa. Hasta pronto\n"
     ]
    }
   ],
   "source": [
    "# Completa el ejercicio aquí\n",
    "\n",
    "print(\"Bienvenido al menú interactivo\")\n",
    "while(True):\n",
    "    variable = input(\"Introduce un string: \")\n",
    "    contador_a = 0\n",
    "\n",
    "    print(\"\"\"\n",
    "    ¿Qué quieres hacer?\n",
    "    1) Contar el número de \"a\" en la cadena de texto\n",
    "    2) Para salir del programa, teclea \".\"\n",
    "    \"\"\")\n",
    "\n",
    "    opcion = input(\"Introduce una opción del menú: \")\n",
    "    if opcion == \"1\":\n",
    "        for a in variable:\n",
    "            if a == \"a\":\n",
    "                contador_a = contador_a + 1\n",
    "        print(\"La letra a está\", contador_a, \"veces\")\n",
    "    elif opcion == \".\":\n",
    "        print(\"Salimos del programa. Hasta pronto\")\n",
    "        break"
   ]
  },
  {
   "cell_type": "markdown",
   "metadata": {},
   "source": [
    "**5) Realiza un programa que lea por teclado un número impar. Debe repetirse el proceso mientras el usuario siga introduciendo números impares. Cuando introduzca un número par, el programa se detendrá.**"
   ]
  },
  {
   "cell_type": "code",
   "execution_count": 6,
   "metadata": {},
   "outputs": [
    {
     "name": "stdout",
     "output_type": "stream",
     "text": [
      "El programa se detendrá cuando introduzca un número par\n",
      "Introduce un número: 7\n",
      "El número 7 es impar\n",
      "Introduce un número: 5\n",
      "El número 5 es impar\n",
      "Introduce un número: 4\n",
      "El número 4 es par\n"
     ]
    }
   ],
   "source": [
    "# Completa el ejercicio aquí\n",
    "\n",
    "print(\"El programa se detendrá cuando introduzca un número par\")\n",
    "while(True):\n",
    "    num = 0\n",
    "    num = int(input(\"Introduce un número: \"))\n",
    "    if num % 2 == 0:\n",
    "        print(f\"El número {num} es par\")\n",
    "        break\n",
    "    else:\n",
    "        print(f\"El número {num} es impar\")"
   ]
  },
  {
   "cell_type": "markdown",
   "metadata": {},
   "source": [
    "**6) Realiza un programa que sume todos los números pares desde el 0 hasta el 100:**\n",
    "\n",
    "*Sugerencia: Puedes utilizar la funciones sum() y range() para hacerlo más fácil. El tercer parámetro en la función range(inicio, fin, salto) indica un salto de números, pruébalo.*"
   ]
  },
  {
   "cell_type": "code",
   "execution_count": 7,
   "metadata": {},
   "outputs": [
    {
     "name": "stdout",
     "output_type": "stream",
     "text": [
      "2550\n"
     ]
    }
   ],
   "source": [
    "# Completa el ejercicio aquí\n",
    "\n",
    "suma_2_100 = sum(range(0, 101, 2))\n",
    "print(suma_2_100)"
   ]
  },
  {
   "cell_type": "markdown",
   "metadata": {},
   "source": [
    "**7) Realiza un programa que solicite al usuario un número que representa el total de números que se van a introducir. Posteriormente leer todos esos números y realizar la media aritmética de todos ellos:**"
   ]
  },
  {
   "cell_type": "code",
   "execution_count": 8,
   "metadata": {},
   "outputs": [
    {
     "name": "stdout",
     "output_type": "stream",
     "text": [
      "¿Cuántos valores quieres introducir? 3\n",
      "Introduce un número: 1\n",
      "Introduce un número: 6\n",
      "Introduce un número: 7\n",
      "Se han introducido 3 valores suman 14.0 y su media es 4.67\n"
     ]
    }
   ],
   "source": [
    "# Completa el ejercicio aquí\n",
    "\n",
    "suma = 0\n",
    "num = int(input(\"¿Cuántos valores quieres introducir? \") )\n",
    "for num_teclado in range(num):\n",
    "    suma += float(input(\"Introduce un número: \") )\n",
    "print(f\"Se han introducido {num} valores suman {suma} y su media es\", round(suma/num, 2))"
   ]
  },
  {
   "cell_type": "markdown",
   "metadata": {},
   "source": [
    "**8) Realiza un programa que solicite al usuario un número entero del 0 al 9, y que mientras el número no sea correcto se repita el proceso. Luego debe comprobar si el número se encuentra en la lista de números y notificarlo:**\n",
    "\n",
    "*Consejo: La sintaxis \"valor in lista\" permite comprobar fácilmente si un valor se encuentra en una lista (devuelve True o False)*"
   ]
  },
  {
   "cell_type": "code",
   "execution_count": 1,
   "metadata": {},
   "outputs": [
    {
     "name": "stdout",
     "output_type": "stream",
     "text": [
      "Escribe un número del 0 al 9: 4\n",
      "El número 4 no está en la lista de números [1, 3, 6, 9]. Inténtelo con otro número\n",
      "Escribe un número del 0 al 9: 1\n",
      "El número 1 está en la lista de números [1, 3, 6, 9]\n"
     ]
    }
   ],
   "source": [
    "# Completa el ejercicio aquí\n",
    "numeros = [1, 3, 6, 9]\n",
    "\n",
    "while True:\n",
    "    num = int(input(\"Escribe un número del 0 al 9: \"))\n",
    "    if num >= 0 and num <= 9:\n",
    "        if num in numeros:\n",
    "            print(f\"El número {num} está en la lista de números {numeros}\")\n",
    "            break\n",
    "        else:\n",
    "            print(f\"El número {num} no está en la lista de números {numeros}. Inténtelo con otro número\")"
   ]
  },
  {
   "cell_type": "markdown",
   "metadata": {},
   "source": [
    "**9) Realiza un programa que utilice la función range() y la conversión a listas genera las siguientes listas dinámicamente (y muéstralas con print):**\n",
    "\n",
    "* Todos los números del 0 al 10 [0, 1, 2, ..., 10]\n",
    "* Todos los números del -10 al 0 [-10, -9, -8, ..., 0]\n",
    "* Todos los números pares del 0 al 20 [0, 2, 4, ..., 20]\n",
    "* Todos los números impares entre -20 y 0 [-19, -17, -15, ..., -1]\n",
    "* Todos los números múltiples de 5 del 0 al 50 [0, 5, 10, ..., 50]\n",
    "\n",
    "*Pista: Utiliza el tercer parámetro de la función range(inicio, fin, salto).*"
   ]
  },
  {
   "cell_type": "code",
   "execution_count": 15,
   "metadata": {},
   "outputs": [
    {
     "name": "stdout",
     "output_type": "stream",
     "text": [
      "Todos los números del 0 al 10\n",
      "[0, 1, 2, 3, 4, 5, 6, 7, 8, 9, 10]\n",
      "Todos los números del -10 al 0\n",
      "[-10, -9, -8, -7, -6, -5, -4, -3, -2, -1, 0]\n",
      "Todos los números pares del 0 al 20\n",
      "[0, 2, 4, 6, 8, 10, 12, 14, 16, 18, 20]\n",
      "Todos los números impares entre -20 y 0\n",
      "[-19, -17, -15, -13, -11, -9, -7, -5, -3, -1]\n",
      "Todos los números múltiples de 5 del 0 al 50\n",
      "[0, 5, 10, 15, 20, 25, 30, 35, 40, 45, 50]\n"
     ]
    }
   ],
   "source": [
    "# Completa el ejercicio aquí\n",
    "\n",
    "print(\"Todos los números del 0 al 10\")\n",
    "print(list(range(0, 11)))\n",
    "\n",
    "print(\"Todos los números del -10 al 0\")\n",
    "print(list(range(-10, 1)))\n",
    "\n",
    "print(\"Todos los números pares del 0 al 20\")\n",
    "print(list(range(0, 21, 2)))\n",
    "\n",
    "print(\"Todos los números impares entre -20 y 0\")\n",
    "print(list(range(-19, 1, 2)))\n",
    "\n",
    "print(\"Todos los números múltiples de 5 del 0 al 50\")\n",
    "print(list(range(0, 55, 5)))"
   ]
  },
  {
   "cell_type": "markdown",
   "metadata": {},
   "source": [
    "**10) Realiza un programa que dadas dos listas, genere una tercera lista con todos los elementos que se repitan en ellas, pero no debe repetirse ningún elemento en la nueva lista:**"
   ]
  },
  {
   "cell_type": "code",
   "execution_count": 18,
   "metadata": {},
   "outputs": [
    {
     "name": "stdout",
     "output_type": "stream",
     "text": [
      "Los elementos repetidos en ambas listas son: ['h', 'o', 'l', 'a', ' ', 'u', 'n']\n"
     ]
    }
   ],
   "source": [
    "# Completa el ejercicio aquí\n",
    "lista_1 = ['h','o','l','a',' ', 'm','u','n','d','o']\n",
    "lista_2 = ['h','o','l','a',' ', 'l','u','n','a']\n",
    "lista_3 = []\n",
    "\n",
    "for letra in lista_1:\n",
    "    if letra in lista_2 and letra not in lista_3:\n",
    "        lista_3.append(letra)\n",
    "\n",
    "print(f\"Los elementos repetidos en ambas listas son: {lista_3}\")"
   ]
  },
  {
   "cell_type": "code",
   "execution_count": null,
   "metadata": {},
   "outputs": [],
   "source": []
  }
 ],
 "metadata": {
  "anaconda-cloud": {},
  "kernelspec": {
   "display_name": "Python 3",
   "language": "python",
   "name": "python3"
  },
  "language_info": {
   "codemirror_mode": {
    "name": "ipython",
    "version": 3
   },
   "file_extension": ".py",
   "mimetype": "text/x-python",
   "name": "python",
   "nbconvert_exporter": "python",
   "pygments_lexer": "ipython3",
   "version": "3.7.6"
  }
 },
 "nbformat": 4,
 "nbformat_minor": 1
}
